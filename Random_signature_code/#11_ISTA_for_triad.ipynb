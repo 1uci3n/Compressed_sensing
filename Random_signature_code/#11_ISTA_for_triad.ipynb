{
 "cells": [
  {
   "cell_type": "code",
   "execution_count": 1,
   "metadata": {},
   "outputs": [],
   "source": [
    "import numpy as np\n",
    "import data_tool as dt"
   ]
  },
  {
   "cell_type": "code",
   "execution_count": 2,
   "metadata": {},
   "outputs": [],
   "source": [
    "user_number = 100\n",
    "code_length = 50\n",
    "signature_matrix = dt.get_random_binary_signature_matrix(user_number, code_length)\n",
    "A = np.transpose(signature_matrix)\n",
    "AT = np.transpose(A)\n",
    "def soft_function(vector, tao):\n",
    "    for i in range(vector.size):\n",
    "        if np.absolute(vector[i]) < tao:\n",
    "            vector[i] = 0\n",
    "        else:\n",
    "            vector[i] = vector[i] - (np.sign(vector[i]) * tao)\n",
    "    return vector\n",
    "\n",
    "def soft_function_li(vector, tao):\n",
    "    for i in range(vector.size):\n",
    "        if vector[i] < tao:\n",
    "            vector[i] = 0\n",
    "        else:\n",
    "            vector[i] = vector[i] - (np.sign(vector[i]) * tao)\n",
    "    return vector"
   ]
  },
  {
   "cell_type": "code",
   "execution_count": 84,
   "metadata": {},
   "outputs": [],
   "source": [
    "Y_set, X_set, H_set, Y_wo_set = dt.get_dataset_with_noise(100, signature_matrix, 40, is_fading=1)"
   ]
  },
  {
   "cell_type": "code",
   "execution_count": 70,
   "metadata": {},
   "outputs": [
    {
     "name": "stdout",
     "output_type": "stream",
     "text": [
      "0.9354936003742149\n",
      "238.42\n"
     ]
    }
   ],
   "source": [
    "b = 0.0001\n",
    "tao = 0.01\n",
    "limt = 0.000000001\n",
    "sample_number = Y_set.shape[0]\n",
    "nmse_sum = 0\n",
    "step_sum = 0\n",
    "max_loop = 300\n",
    "for point in range(sample_number):\n",
    "    y = Y_set[point]\n",
    "    h = H_set[point]\n",
    "    s = np.zeros(user_number)\n",
    "    r = s + (b * np.matmul(AT, (y - np.matmul(A, s))))\n",
    "    s = soft_function_li(r, tao)\n",
    "    diff = 0\n",
    "    step_counter = 1\n",
    "    for i in range(max_loop):\n",
    "        r = s + (b * np.matmul(AT, (y - np.matmul(A, s))))\n",
    "        s = soft_function_li(r, tao)\n",
    "        temp_diff = np.linalg.norm(r - h, 2)\n",
    "        step_counter = step_counter + 1\n",
    "#         print(temp_diff)\n",
    "        if np.absolute(temp_diff - diff) < limt:\n",
    "            break\n",
    "        else:\n",
    "            diff = temp_diff\n",
    "    temp_nmse = np.linalg.norm(r - h, 2)/ np.linalg.norm(h, 2)\n",
    "    nmse_sum += temp_nmse \n",
    "    step_sum += step_counter\n",
    "print(nmse_sum/sample_number)\n",
    "print(step_sum/sample_number)"
   ]
  },
  {
   "cell_type": "code",
   "execution_count": 86,
   "metadata": {},
   "outputs": [
    {
     "name": "stdout",
     "output_type": "stream",
     "text": [
      "b\tnmse\tstep\n",
      "1e-06\t1.0\t3.0\n",
      "9.999999999999999e-06\t1.0\t3.0\n",
      "9.999999999999999e-05\t0.9532381579594038\t211.07\n",
      "0.001\t0.24380413585726565\t287.01\n",
      "0.01\t1.8168815892459451e+31\t294.35\n"
     ]
    },
    {
     "name": "stderr",
     "output_type": "stream",
     "text": [
      "<ipython-input-86-2ac7bcdad1f6>:24: RuntimeWarning: invalid value encountered in double_scalars\n",
      "  if np.absolute(temp_diff - diff) < limt:\n",
      "<ipython-input-86-2ac7bcdad1f6>:19: RuntimeWarning: overflow encountered in matmul\n",
      "  r = s + (b * np.matmul(AT, (y - np.matmul(A, s))))\n",
      "<ipython-input-86-2ac7bcdad1f6>:19: RuntimeWarning: invalid value encountered in matmul\n",
      "  r = s + (b * np.matmul(AT, (y - np.matmul(A, s))))\n",
      "<ipython-input-86-2ac7bcdad1f6>:19: RuntimeWarning: invalid value encountered in add\n",
      "  r = s + (b * np.matmul(AT, (y - np.matmul(A, s))))\n"
     ]
    },
    {
     "ename": "KeyboardInterrupt",
     "evalue": "",
     "output_type": "error",
     "traceback": [
      "\u001b[0;31m---------------------------------------------------------------------------\u001b[0m",
      "\u001b[0;31mKeyboardInterrupt\u001b[0m                         Traceback (most recent call last)",
      "\u001b[0;32m<ipython-input-86-2ac7bcdad1f6>\u001b[0m in \u001b[0;36m<module>\u001b[0;34m\u001b[0m\n\u001b[1;32m     18\u001b[0m         \u001b[0;32mfor\u001b[0m \u001b[0mi\u001b[0m \u001b[0;32min\u001b[0m \u001b[0mrange\u001b[0m\u001b[0;34m(\u001b[0m\u001b[0mmax_loop\u001b[0m\u001b[0;34m)\u001b[0m\u001b[0;34m:\u001b[0m\u001b[0;34m\u001b[0m\u001b[0;34m\u001b[0m\u001b[0m\n\u001b[1;32m     19\u001b[0m             \u001b[0mr\u001b[0m \u001b[0;34m=\u001b[0m \u001b[0ms\u001b[0m \u001b[0;34m+\u001b[0m \u001b[0;34m(\u001b[0m\u001b[0mb\u001b[0m \u001b[0;34m*\u001b[0m \u001b[0mnp\u001b[0m\u001b[0;34m.\u001b[0m\u001b[0mmatmul\u001b[0m\u001b[0;34m(\u001b[0m\u001b[0mAT\u001b[0m\u001b[0;34m,\u001b[0m \u001b[0;34m(\u001b[0m\u001b[0my\u001b[0m \u001b[0;34m-\u001b[0m \u001b[0mnp\u001b[0m\u001b[0;34m.\u001b[0m\u001b[0mmatmul\u001b[0m\u001b[0;34m(\u001b[0m\u001b[0mA\u001b[0m\u001b[0;34m,\u001b[0m \u001b[0ms\u001b[0m\u001b[0;34m)\u001b[0m\u001b[0;34m)\u001b[0m\u001b[0;34m)\u001b[0m\u001b[0;34m)\u001b[0m\u001b[0;34m\u001b[0m\u001b[0;34m\u001b[0m\u001b[0m\n\u001b[0;32m---> 20\u001b[0;31m             \u001b[0ms\u001b[0m \u001b[0;34m=\u001b[0m \u001b[0msoft_function_li\u001b[0m\u001b[0;34m(\u001b[0m\u001b[0mr\u001b[0m\u001b[0;34m,\u001b[0m \u001b[0mtao\u001b[0m\u001b[0;34m)\u001b[0m\u001b[0;34m\u001b[0m\u001b[0;34m\u001b[0m\u001b[0m\n\u001b[0m\u001b[1;32m     21\u001b[0m             \u001b[0mtemp_diff\u001b[0m \u001b[0;34m=\u001b[0m \u001b[0mnp\u001b[0m\u001b[0;34m.\u001b[0m\u001b[0mlinalg\u001b[0m\u001b[0;34m.\u001b[0m\u001b[0mnorm\u001b[0m\u001b[0;34m(\u001b[0m\u001b[0mr\u001b[0m \u001b[0;34m-\u001b[0m \u001b[0mh\u001b[0m\u001b[0;34m,\u001b[0m \u001b[0;36m2\u001b[0m\u001b[0;34m)\u001b[0m\u001b[0;34m\u001b[0m\u001b[0;34m\u001b[0m\u001b[0m\n\u001b[1;32m     22\u001b[0m             \u001b[0mstep_counter\u001b[0m \u001b[0;34m=\u001b[0m \u001b[0mstep_counter\u001b[0m \u001b[0;34m+\u001b[0m \u001b[0;36m1\u001b[0m\u001b[0;34m\u001b[0m\u001b[0;34m\u001b[0m\u001b[0m\n",
      "\u001b[0;32m<ipython-input-2-f6f4b4368ed6>\u001b[0m in \u001b[0;36msoft_function_li\u001b[0;34m(vector, tao)\u001b[0m\n\u001b[1;32m     17\u001b[0m             \u001b[0mvector\u001b[0m\u001b[0;34m[\u001b[0m\u001b[0mi\u001b[0m\u001b[0;34m]\u001b[0m \u001b[0;34m=\u001b[0m \u001b[0;36m0\u001b[0m\u001b[0;34m\u001b[0m\u001b[0;34m\u001b[0m\u001b[0m\n\u001b[1;32m     18\u001b[0m         \u001b[0;32melse\u001b[0m\u001b[0;34m:\u001b[0m\u001b[0;34m\u001b[0m\u001b[0;34m\u001b[0m\u001b[0m\n\u001b[0;32m---> 19\u001b[0;31m             \u001b[0mvector\u001b[0m\u001b[0;34m[\u001b[0m\u001b[0mi\u001b[0m\u001b[0;34m]\u001b[0m \u001b[0;34m=\u001b[0m \u001b[0mvector\u001b[0m\u001b[0;34m[\u001b[0m\u001b[0mi\u001b[0m\u001b[0;34m]\u001b[0m \u001b[0;34m-\u001b[0m \u001b[0;34m(\u001b[0m\u001b[0mnp\u001b[0m\u001b[0;34m.\u001b[0m\u001b[0msign\u001b[0m\u001b[0;34m(\u001b[0m\u001b[0mvector\u001b[0m\u001b[0;34m[\u001b[0m\u001b[0mi\u001b[0m\u001b[0;34m]\u001b[0m\u001b[0;34m)\u001b[0m \u001b[0;34m*\u001b[0m \u001b[0mtao\u001b[0m\u001b[0;34m)\u001b[0m\u001b[0;34m\u001b[0m\u001b[0;34m\u001b[0m\u001b[0m\n\u001b[0m\u001b[1;32m     20\u001b[0m     \u001b[0;32mreturn\u001b[0m \u001b[0mvector\u001b[0m\u001b[0;34m\u001b[0m\u001b[0;34m\u001b[0m\u001b[0m\n",
      "\u001b[0;31mKeyboardInterrupt\u001b[0m: "
     ]
    }
   ],
   "source": [
    "tao = 0.01\n",
    "# limt = 0.000000001\n",
    "sample_number = Y_set.shape[0]\n",
    "max_loop = 300\n",
    "b = 0.000001\n",
    "print(\"b\\tnmse\\tstep\")\n",
    "for bb in range(10):\n",
    "    nmse_sum = 0\n",
    "    step_sum = 0\n",
    "    for point in range(sample_number):\n",
    "        y = Y_set[point]\n",
    "        h = H_set[point]\n",
    "        s = np.zeros(user_number)\n",
    "        r = s + (b * np.matmul(AT, (y - np.matmul(A, s))))\n",
    "        s = soft_function_li(r, tao)\n",
    "        diff = 0\n",
    "        step_counter = 1\n",
    "        for i in range(max_loop):\n",
    "            r = s + (b * np.matmul(AT, (y - np.matmul(A, s))))\n",
    "            s = soft_function_li(r, tao)\n",
    "            temp_diff = np.linalg.norm(r - h, 2)\n",
    "            step_counter = step_counter + 1\n",
    "    #         print(temp_diff)\n",
    "            if np.absolute(temp_diff - diff) < limt:\n",
    "                break\n",
    "            else:\n",
    "                diff = temp_diff\n",
    "        temp_nmse = np.linalg.norm(r - h, 2)/ np.linalg.norm(h, 2)\n",
    "        nmse_sum += temp_nmse \n",
    "        step_sum += step_counter\n",
    "    print(b, end='\\t')\n",
    "    print(nmse_sum/sample_number, end='\\t')\n",
    "    print(step_sum/sample_number)\n",
    "    \n",
    "    b *= 10 "
   ]
  },
  {
   "cell_type": "code",
   "execution_count": 79,
   "metadata": {},
   "outputs": [
    {
     "name": "stdout",
     "output_type": "stream",
     "text": [
      "b\tnmse\tstep\n",
      "0.0001\t0.9253331099491359\t475.42\n",
      "0.001\t0.2690631870861142\t600.49\n",
      "0.01\t3.465261042527883e+63\t601.0\n"
     ]
    }
   ],
   "source": [
    "tao = 0.01\n",
    "limt = 0.000000001\n",
    "sample_number = Y_set.shape[0]\n",
    "max_loop = 600\n",
    "b = 0.0001\n",
    "print(\"b\\tnmse\\tstep\")\n",
    "for bb in range(3):\n",
    "    nmse_sum = 0\n",
    "    step_sum = 0\n",
    "    for point in range(sample_number):\n",
    "        y = Y_set[point]\n",
    "        h = H_set[point]\n",
    "        s = np.zeros(user_number)\n",
    "        r = s + (b * np.matmul(AT, (y - np.matmul(A, s))))\n",
    "        s = soft_function_li(r, tao)\n",
    "        diff = 0\n",
    "        step_counter = 1\n",
    "        for i in range(max_loop):\n",
    "            r = s + (b * np.matmul(AT, (y - np.matmul(A, s))))\n",
    "            s = soft_function_li(r, tao)\n",
    "            temp_diff = np.linalg.norm(r - h, 2)\n",
    "            step_counter = step_counter + 1\n",
    "    #         print(temp_diff)\n",
    "            if np.absolute(temp_diff - diff) < limt:\n",
    "                break\n",
    "            else:\n",
    "                diff = temp_diff\n",
    "        temp_nmse = np.linalg.norm(r - h, 2)/ np.linalg.norm(h, 2)\n",
    "        nmse_sum += temp_nmse \n",
    "        step_sum += step_counter\n",
    "    print(b, end='\\t')\n",
    "    print(nmse_sum/sample_number, end='\\t')\n",
    "    print(step_sum/sample_number)\n",
    "    \n",
    "    b *= 10 "
   ]
  },
  {
   "cell_type": "code",
   "execution_count": 85,
   "metadata": {},
   "outputs": [
    {
     "name": "stdout",
     "output_type": "stream",
     "text": [
      "b\tnmse\tstep\n",
      "0.0002\t0.731718213731028\t556.36\n",
      "0.0004\t0.48507557771613125\t518.05\n",
      "0.0006000000000000001\t0.3579874386358085\t502.75\n",
      "0.0008\t0.28300527102223716\t475.35\n",
      "0.001\t0.2337835222750514\t447.56\n",
      "0.0012000000000000001\t0.19879452781199003\t426.07\n",
      "0.0014000000000000002\t0.17286668217014128\t406.06\n",
      "0.0016000000000000003\t0.15275888861660886\t385.4\n",
      "0.0018000000000000004\t0.13675042368431303\t366.9\n",
      "0.0020000000000000005\t0.12385563323038325\t350.83\n",
      "0.0022000000000000006\t0.11315573724860933\t336.79\n",
      "0.0024000000000000007\t0.10423375432496185\t322.91\n",
      "0.0026000000000000007\t0.09666832398539682\t309.98\n",
      "0.002800000000000001\t0.09012987100615147\t299.65\n",
      "0.003000000000000001\t0.08426768004175816\t288.76\n"
     ]
    }
   ],
   "source": [
    "tao = 0.01\n",
    "limt = 0.00001\n",
    "sample_number = Y_set.shape[0]\n",
    "max_loop = 600\n",
    "b = 0.0002\n",
    "print(\"b\\tnmse\\tstep\")\n",
    "for bb in range(15):\n",
    "    nmse_sum = 0\n",
    "    step_sum = 0\n",
    "    for point in range(sample_number):\n",
    "        y = Y_set[point]\n",
    "        h = H_set[point]\n",
    "        s = np.zeros(user_number)\n",
    "        r = s + (b * np.matmul(AT, (y - np.matmul(A, s))))\n",
    "        s = soft_function_li(r, tao)\n",
    "        diff = 0\n",
    "        step_counter = 1\n",
    "        for i in range(max_loop):\n",
    "            r = s + (b * np.matmul(AT, (y - np.matmul(A, s))))\n",
    "            s = soft_function_li(r, tao)\n",
    "            temp_diff = np.linalg.norm(r - h, 2)\n",
    "            step_counter = step_counter + 1\n",
    "    #         print(temp_diff)\n",
    "            if np.absolute(temp_diff - diff) < limt:\n",
    "                break\n",
    "            else:\n",
    "                diff = temp_diff\n",
    "        temp_nmse = np.linalg.norm(r - h, 2)/ np.linalg.norm(h, 2)\n",
    "        nmse_sum += temp_nmse \n",
    "        step_sum += step_counter\n",
    "    print(b, end='\\t')\n",
    "    print(nmse_sum/sample_number, end='\\t')\n",
    "    print(step_sum/sample_number)\n",
    "    \n",
    "    b += 0.0002 "
   ]
  },
  {
   "cell_type": "code",
   "execution_count": 88,
   "metadata": {},
   "outputs": [
    {
     "name": "stdout",
     "output_type": "stream",
     "text": [
      "b\tnmse\tstep\n",
      "0.003\t0.08647184016655879\t230.5\n",
      "0.0032\t0.08111470560218408\t225.49\n",
      "0.0034000000000000002\t0.0763673144469295\t220.77\n",
      "0.0036000000000000003\t0.07213614965612664\t216.55\n",
      "0.0038000000000000004\t0.06833382637736513\t212.55\n",
      "0.004\t0.06490536249523805\t208.62\n",
      "0.0042\t0.06180484859758468\t204.87\n",
      "0.004399999999999999\t0.058990446638004984\t201.14\n",
      "0.004599999999999999\t0.056425028743098016\t197.72\n",
      "0.004799999999999999\t0.05407797707694341\t194.46\n",
      "0.004999999999999998\t0.05192269007690313\t191.49\n",
      "0.005199999999999998\t0.049937318166408694\t188.63\n",
      "0.005399999999999998\t0.048102382355838226\t185.92\n",
      "0.005599999999999997\t0.04640143361011766\t183.45\n",
      "0.005799999999999997\t0.04482449863122042\t181.13\n"
     ]
    }
   ],
   "source": [
    "b= 0.003\n",
    "print(\"b\\tnmse\\tstep\")\n",
    "for bb in range(15):\n",
    "    nmse_sum = 0\n",
    "    step_sum = 0\n",
    "    for point in range(sample_number):\n",
    "        y = Y_set[point]\n",
    "        h = H_set[point]\n",
    "        s = np.zeros(user_number)\n",
    "        r = s + (b * np.matmul(AT, (y - np.matmul(A, s))))\n",
    "        s = soft_function_li(r, tao)\n",
    "        diff = 0\n",
    "        step_counter = 1\n",
    "        for i in range(max_loop):\n",
    "            r = s + (b * np.matmul(AT, (y - np.matmul(A, s))))\n",
    "            s = soft_function_li(r, tao)\n",
    "            temp_diff = np.linalg.norm(r - h, 2)\n",
    "            step_counter = step_counter + 1\n",
    "    #         print(temp_diff)\n",
    "            if np.absolute(temp_diff - diff) < limt:\n",
    "                break\n",
    "            else:\n",
    "                diff = temp_diff\n",
    "        temp_nmse = np.linalg.norm(r - h, 2)/ np.linalg.norm(h, 2)\n",
    "        nmse_sum += temp_nmse \n",
    "        step_sum += step_counter\n",
    "    print(b, end='\\t')\n",
    "    print(nmse_sum/sample_number, end='\\t')\n",
    "    print(step_sum/sample_number)\n",
    "    \n",
    "    b += 0.0002 "
   ]
  },
  {
   "cell_type": "code",
   "execution_count": 90,
   "metadata": {},
   "outputs": [
    {
     "name": "stdout",
     "output_type": "stream",
     "text": [
      "b\tnmse\tstep\n",
      "0.005999999999999997\t0.043352967502377215\t178.43\n",
      "0.006199999999999996\t0.04198129819883964\t176.1\n",
      "0.006399999999999996\t0.04070033447500248\t174.1\n",
      "0.006599999999999996\t0.03949210409868919\t171.72\n",
      "0.006799999999999995\t0.038354917519092\t169.63\n",
      "0.006999999999999995\t0.03728258300136899\t167.52\n",
      "0.007199999999999995\t0.03626940598970071\t165.57\n",
      "0.007399999999999994\t0.03530770211879638\t163.66\n",
      "0.007599999999999994\t0.034397003970096714\t161.8\n",
      "0.007799999999999994\t0.03353214954192573\t159.98\n",
      "0.007999999999999993\t0.03270779880746463\t158.16\n",
      "0.008199999999999994\t7343521.85983743\t163.67\n",
      "0.008399999999999994\t5885888627.063312\t174.06\n",
      "0.008599999999999995\t3640646262956.6714\t193.87\n"
     ]
    },
    {
     "ename": "KeyboardInterrupt",
     "evalue": "",
     "output_type": "error",
     "traceback": [
      "\u001b[0;31m---------------------------------------------------------------------------\u001b[0m",
      "\u001b[0;31mKeyboardInterrupt\u001b[0m                         Traceback (most recent call last)",
      "\u001b[0;32m<ipython-input-90-328fef2cbe99>\u001b[0m in \u001b[0;36m<module>\u001b[0;34m\u001b[0m\n\u001b[1;32m     13\u001b[0m         \u001b[0;32mfor\u001b[0m \u001b[0mi\u001b[0m \u001b[0;32min\u001b[0m \u001b[0mrange\u001b[0m\u001b[0;34m(\u001b[0m\u001b[0mmax_loop\u001b[0m\u001b[0;34m)\u001b[0m\u001b[0;34m:\u001b[0m\u001b[0;34m\u001b[0m\u001b[0;34m\u001b[0m\u001b[0m\n\u001b[1;32m     14\u001b[0m             \u001b[0mr\u001b[0m \u001b[0;34m=\u001b[0m \u001b[0ms\u001b[0m \u001b[0;34m+\u001b[0m \u001b[0;34m(\u001b[0m\u001b[0mb\u001b[0m \u001b[0;34m*\u001b[0m \u001b[0mnp\u001b[0m\u001b[0;34m.\u001b[0m\u001b[0mmatmul\u001b[0m\u001b[0;34m(\u001b[0m\u001b[0mAT\u001b[0m\u001b[0;34m,\u001b[0m \u001b[0;34m(\u001b[0m\u001b[0my\u001b[0m \u001b[0;34m-\u001b[0m \u001b[0mnp\u001b[0m\u001b[0;34m.\u001b[0m\u001b[0mmatmul\u001b[0m\u001b[0;34m(\u001b[0m\u001b[0mA\u001b[0m\u001b[0;34m,\u001b[0m \u001b[0ms\u001b[0m\u001b[0;34m)\u001b[0m\u001b[0;34m)\u001b[0m\u001b[0;34m)\u001b[0m\u001b[0;34m)\u001b[0m\u001b[0;34m\u001b[0m\u001b[0;34m\u001b[0m\u001b[0m\n\u001b[0;32m---> 15\u001b[0;31m             \u001b[0ms\u001b[0m \u001b[0;34m=\u001b[0m \u001b[0msoft_function_li\u001b[0m\u001b[0;34m(\u001b[0m\u001b[0mr\u001b[0m\u001b[0;34m,\u001b[0m \u001b[0mtao\u001b[0m\u001b[0;34m)\u001b[0m\u001b[0;34m\u001b[0m\u001b[0;34m\u001b[0m\u001b[0m\n\u001b[0m\u001b[1;32m     16\u001b[0m             \u001b[0mtemp_diff\u001b[0m \u001b[0;34m=\u001b[0m \u001b[0mnp\u001b[0m\u001b[0;34m.\u001b[0m\u001b[0mlinalg\u001b[0m\u001b[0;34m.\u001b[0m\u001b[0mnorm\u001b[0m\u001b[0;34m(\u001b[0m\u001b[0mr\u001b[0m \u001b[0;34m-\u001b[0m \u001b[0mh\u001b[0m\u001b[0;34m,\u001b[0m \u001b[0;36m2\u001b[0m\u001b[0;34m)\u001b[0m\u001b[0;34m\u001b[0m\u001b[0;34m\u001b[0m\u001b[0m\n\u001b[1;32m     17\u001b[0m             \u001b[0mstep_counter\u001b[0m \u001b[0;34m=\u001b[0m \u001b[0mstep_counter\u001b[0m \u001b[0;34m+\u001b[0m \u001b[0;36m1\u001b[0m\u001b[0;34m\u001b[0m\u001b[0;34m\u001b[0m\u001b[0m\n",
      "\u001b[0;32m<ipython-input-2-f6f4b4368ed6>\u001b[0m in \u001b[0;36msoft_function_li\u001b[0;34m(vector, tao)\u001b[0m\n\u001b[1;32m     14\u001b[0m \u001b[0;32mdef\u001b[0m \u001b[0msoft_function_li\u001b[0m\u001b[0;34m(\u001b[0m\u001b[0mvector\u001b[0m\u001b[0;34m,\u001b[0m \u001b[0mtao\u001b[0m\u001b[0;34m)\u001b[0m\u001b[0;34m:\u001b[0m\u001b[0;34m\u001b[0m\u001b[0;34m\u001b[0m\u001b[0m\n\u001b[1;32m     15\u001b[0m     \u001b[0;32mfor\u001b[0m \u001b[0mi\u001b[0m \u001b[0;32min\u001b[0m \u001b[0mrange\u001b[0m\u001b[0;34m(\u001b[0m\u001b[0mvector\u001b[0m\u001b[0;34m.\u001b[0m\u001b[0msize\u001b[0m\u001b[0;34m)\u001b[0m\u001b[0;34m:\u001b[0m\u001b[0;34m\u001b[0m\u001b[0;34m\u001b[0m\u001b[0m\n\u001b[0;32m---> 16\u001b[0;31m         \u001b[0;32mif\u001b[0m \u001b[0mvector\u001b[0m\u001b[0;34m[\u001b[0m\u001b[0mi\u001b[0m\u001b[0;34m]\u001b[0m \u001b[0;34m<\u001b[0m \u001b[0mtao\u001b[0m\u001b[0;34m:\u001b[0m\u001b[0;34m\u001b[0m\u001b[0;34m\u001b[0m\u001b[0m\n\u001b[0m\u001b[1;32m     17\u001b[0m             \u001b[0mvector\u001b[0m\u001b[0;34m[\u001b[0m\u001b[0mi\u001b[0m\u001b[0;34m]\u001b[0m \u001b[0;34m=\u001b[0m \u001b[0;36m0\u001b[0m\u001b[0;34m\u001b[0m\u001b[0;34m\u001b[0m\u001b[0m\n\u001b[1;32m     18\u001b[0m         \u001b[0;32melse\u001b[0m\u001b[0;34m:\u001b[0m\u001b[0;34m\u001b[0m\u001b[0;34m\u001b[0m\u001b[0m\n",
      "\u001b[0;31mKeyboardInterrupt\u001b[0m: "
     ]
    }
   ],
   "source": [
    "print(\"b\\tnmse\\tstep\")\n",
    "for bb in range(15):\n",
    "    nmse_sum = 0\n",
    "    step_sum = 0\n",
    "    for point in range(sample_number):\n",
    "        y = Y_set[point]\n",
    "        h = H_set[point]\n",
    "        s = np.zeros(user_number)\n",
    "        r = s + (b * np.matmul(AT, (y - np.matmul(A, s))))\n",
    "        s = soft_function_li(r, tao)\n",
    "        diff = 0\n",
    "        step_counter = 1\n",
    "        for i in range(max_loop):\n",
    "            r = s + (b * np.matmul(AT, (y - np.matmul(A, s))))\n",
    "            s = soft_function_li(r, tao)\n",
    "            temp_diff = np.linalg.norm(r - h, 2)\n",
    "            step_counter = step_counter + 1\n",
    "    #         print(temp_diff)\n",
    "            if np.absolute(temp_diff - diff) < limt:\n",
    "                break\n",
    "            else:\n",
    "                diff = temp_diff\n",
    "        temp_nmse = np.linalg.norm(r - h, 2)/ np.linalg.norm(h, 2)\n",
    "        nmse_sum += temp_nmse \n",
    "        step_sum += step_counter\n",
    "    print(b, end='\\t')\n",
    "    print(nmse_sum/sample_number, end='\\t')\n",
    "    print(step_sum/sample_number)\n",
    "    \n",
    "    b += 0.0002 "
   ]
  },
  {
   "cell_type": "code",
   "execution_count": 98,
   "metadata": {},
   "outputs": [
    {
     "name": "stdout",
     "output_type": "stream",
     "text": [
      "b\tnmse\tstep\n",
      "0.00802\t0.03262769666090839\t157.96\n",
      "0.008020999999999999\t0.03262371773999481\t157.93\n",
      "0.008021999999999998\t0.03261970505217173\t157.91\n",
      "0.008022999999999997\t0.03261565571556261\t157.92\n",
      "0.008023999999999996\t0.03261154470290588\t157.93\n",
      "0.008024999999999996\t0.03260726840576201\t157.97\n",
      "0.008025999999999995\t1021.3829643640119\t158.45\n",
      "0.008026999999999994\t2250.430155435029\t158.42\n"
     ]
    },
    {
     "ename": "KeyboardInterrupt",
     "evalue": "",
     "output_type": "error",
     "traceback": [
      "\u001b[0;31m---------------------------------------------------------------------------\u001b[0m",
      "\u001b[0;31mKeyboardInterrupt\u001b[0m                         Traceback (most recent call last)",
      "\u001b[0;32m<ipython-input-98-b1d7fd4e984b>\u001b[0m in \u001b[0;36m<module>\u001b[0;34m\u001b[0m\n\u001b[1;32m     14\u001b[0m         \u001b[0;32mfor\u001b[0m \u001b[0mi\u001b[0m \u001b[0;32min\u001b[0m \u001b[0mrange\u001b[0m\u001b[0;34m(\u001b[0m\u001b[0mmax_loop\u001b[0m\u001b[0;34m)\u001b[0m\u001b[0;34m:\u001b[0m\u001b[0;34m\u001b[0m\u001b[0;34m\u001b[0m\u001b[0m\n\u001b[1;32m     15\u001b[0m             \u001b[0mr\u001b[0m \u001b[0;34m=\u001b[0m \u001b[0ms\u001b[0m \u001b[0;34m+\u001b[0m \u001b[0;34m(\u001b[0m\u001b[0mb\u001b[0m \u001b[0;34m*\u001b[0m \u001b[0mnp\u001b[0m\u001b[0;34m.\u001b[0m\u001b[0mmatmul\u001b[0m\u001b[0;34m(\u001b[0m\u001b[0mAT\u001b[0m\u001b[0;34m,\u001b[0m \u001b[0;34m(\u001b[0m\u001b[0my\u001b[0m \u001b[0;34m-\u001b[0m \u001b[0mnp\u001b[0m\u001b[0;34m.\u001b[0m\u001b[0mmatmul\u001b[0m\u001b[0;34m(\u001b[0m\u001b[0mA\u001b[0m\u001b[0;34m,\u001b[0m \u001b[0ms\u001b[0m\u001b[0;34m)\u001b[0m\u001b[0;34m)\u001b[0m\u001b[0;34m)\u001b[0m\u001b[0;34m)\u001b[0m\u001b[0;34m\u001b[0m\u001b[0;34m\u001b[0m\u001b[0m\n\u001b[0;32m---> 16\u001b[0;31m             \u001b[0ms\u001b[0m \u001b[0;34m=\u001b[0m \u001b[0msoft_function_li\u001b[0m\u001b[0;34m(\u001b[0m\u001b[0mr\u001b[0m\u001b[0;34m,\u001b[0m \u001b[0mtao\u001b[0m\u001b[0;34m)\u001b[0m\u001b[0;34m\u001b[0m\u001b[0;34m\u001b[0m\u001b[0m\n\u001b[0m\u001b[1;32m     17\u001b[0m             \u001b[0mtemp_diff\u001b[0m \u001b[0;34m=\u001b[0m \u001b[0mnp\u001b[0m\u001b[0;34m.\u001b[0m\u001b[0mlinalg\u001b[0m\u001b[0;34m.\u001b[0m\u001b[0mnorm\u001b[0m\u001b[0;34m(\u001b[0m\u001b[0mr\u001b[0m \u001b[0;34m-\u001b[0m \u001b[0mh\u001b[0m\u001b[0;34m,\u001b[0m \u001b[0;36m2\u001b[0m\u001b[0;34m)\u001b[0m\u001b[0;34m\u001b[0m\u001b[0;34m\u001b[0m\u001b[0m\n\u001b[1;32m     18\u001b[0m             \u001b[0mstep_counter\u001b[0m \u001b[0;34m=\u001b[0m \u001b[0mstep_counter\u001b[0m \u001b[0;34m+\u001b[0m \u001b[0;36m1\u001b[0m\u001b[0;34m\u001b[0m\u001b[0;34m\u001b[0m\u001b[0m\n",
      "\u001b[0;32m<ipython-input-2-f6f4b4368ed6>\u001b[0m in \u001b[0;36msoft_function_li\u001b[0;34m(vector, tao)\u001b[0m\n\u001b[1;32m     15\u001b[0m     \u001b[0;32mfor\u001b[0m \u001b[0mi\u001b[0m \u001b[0;32min\u001b[0m \u001b[0mrange\u001b[0m\u001b[0;34m(\u001b[0m\u001b[0mvector\u001b[0m\u001b[0;34m.\u001b[0m\u001b[0msize\u001b[0m\u001b[0;34m)\u001b[0m\u001b[0;34m:\u001b[0m\u001b[0;34m\u001b[0m\u001b[0;34m\u001b[0m\u001b[0m\n\u001b[1;32m     16\u001b[0m         \u001b[0;32mif\u001b[0m \u001b[0mvector\u001b[0m\u001b[0;34m[\u001b[0m\u001b[0mi\u001b[0m\u001b[0;34m]\u001b[0m \u001b[0;34m<\u001b[0m \u001b[0mtao\u001b[0m\u001b[0;34m:\u001b[0m\u001b[0;34m\u001b[0m\u001b[0;34m\u001b[0m\u001b[0m\n\u001b[0;32m---> 17\u001b[0;31m             \u001b[0mvector\u001b[0m\u001b[0;34m[\u001b[0m\u001b[0mi\u001b[0m\u001b[0;34m]\u001b[0m \u001b[0;34m=\u001b[0m \u001b[0;36m0\u001b[0m\u001b[0;34m\u001b[0m\u001b[0;34m\u001b[0m\u001b[0m\n\u001b[0m\u001b[1;32m     18\u001b[0m         \u001b[0;32melse\u001b[0m\u001b[0;34m:\u001b[0m\u001b[0;34m\u001b[0m\u001b[0;34m\u001b[0m\u001b[0m\n\u001b[1;32m     19\u001b[0m             \u001b[0mvector\u001b[0m\u001b[0;34m[\u001b[0m\u001b[0mi\u001b[0m\u001b[0;34m]\u001b[0m \u001b[0;34m=\u001b[0m \u001b[0mvector\u001b[0m\u001b[0;34m[\u001b[0m\u001b[0mi\u001b[0m\u001b[0;34m]\u001b[0m \u001b[0;34m-\u001b[0m \u001b[0;34m(\u001b[0m\u001b[0mnp\u001b[0m\u001b[0;34m.\u001b[0m\u001b[0msign\u001b[0m\u001b[0;34m(\u001b[0m\u001b[0mvector\u001b[0m\u001b[0;34m[\u001b[0m\u001b[0mi\u001b[0m\u001b[0;34m]\u001b[0m\u001b[0;34m)\u001b[0m \u001b[0;34m*\u001b[0m \u001b[0mtao\u001b[0m\u001b[0;34m)\u001b[0m\u001b[0;34m\u001b[0m\u001b[0;34m\u001b[0m\u001b[0m\n",
      "\u001b[0;31mKeyboardInterrupt\u001b[0m: "
     ]
    }
   ],
   "source": [
    "b = 0.00802\n",
    "print(\"b\\tnmse\\tstep\")\n",
    "for bb in range(15):\n",
    "    nmse_sum = 0\n",
    "    step_sum = 0\n",
    "    for point in range(sample_number):\n",
    "        y = Y_set[point]\n",
    "        h = H_set[point]\n",
    "        s = np.zeros(user_number)\n",
    "        r = s + (b * np.matmul(AT, (y - np.matmul(A, s))))\n",
    "        s = soft_function_li(r, tao)\n",
    "        diff = 0\n",
    "        step_counter = 1\n",
    "        for i in range(max_loop):\n",
    "            r = s + (b * np.matmul(AT, (y - np.matmul(A, s))))\n",
    "            s = soft_function_li(r, tao)\n",
    "            temp_diff = np.linalg.norm(r - h, 2)\n",
    "            step_counter = step_counter + 1\n",
    "    #         print(temp_diff)\n",
    "            if np.absolute(temp_diff - diff) < limt:\n",
    "                break\n",
    "            else:\n",
    "                diff = temp_diff\n",
    "        temp_nmse = np.linalg.norm(r - h, 2)/ np.linalg.norm(h, 2)\n",
    "        nmse_sum += temp_nmse \n",
    "        step_sum += step_counter\n",
    "    print(b, end='\\t')\n",
    "    print(nmse_sum/sample_number, end='\\t')\n",
    "    print(step_sum/sample_number)\n",
    "    \n",
    "    b += 0.000001 "
   ]
  },
  {
   "cell_type": "code",
   "execution_count": 103,
   "metadata": {},
   "outputs": [
    {
     "data": {
      "text/plain": [
       "-29.733711632585763"
      ]
     },
     "execution_count": 103,
     "metadata": {},
     "output_type": "execute_result"
    }
   ],
   "source": [
    "dt.rate_2_dB(0.03260726840576201**2)"
   ]
  },
  {
   "cell_type": "code",
   "execution_count": 100,
   "metadata": {},
   "outputs": [],
   "source": [
    "Y_set, X_set, H_set, Y_wo_set = dt.get_dataset_with_noise(100, signature_matrix, 10, is_fading=1)"
   ]
  },
  {
   "cell_type": "code",
   "execution_count": 101,
   "metadata": {},
   "outputs": [
    {
     "name": "stdout",
     "output_type": "stream",
     "text": [
      "b\tnmse\tstep\n",
      "0.002\t0.24163710926630028\t280.14\n",
      "0.003\t0.2471280894384091\t273.4\n",
      "0.004\t0.2595754524052779\t261.08\n",
      "0.005\t0.27341765448036054\t260.98\n",
      "0.006\t0.2861782638871585\t247.77\n",
      "0.007\t0.29802972322970234\t238.6\n",
      "0.008\t4679.697123192859\t237.89\n",
      "0.009000000000000001\t1.1829583277185743e+18\t278.75\n",
      "0.010000000000000002\t1.799904075115574e+31\t297.83\n",
      "0.011000000000000003\t2.7334451986590713e+43\t301.0\n",
      "0.012000000000000004\t4.426722754486918e+54\t301.0\n"
     ]
    },
    {
     "ename": "KeyboardInterrupt",
     "evalue": "",
     "output_type": "error",
     "traceback": [
      "\u001b[0;31m---------------------------------------------------------------------------\u001b[0m",
      "\u001b[0;31mKeyboardInterrupt\u001b[0m                         Traceback (most recent call last)",
      "\u001b[0;32m<ipython-input-101-a3f05a172090>\u001b[0m in \u001b[0;36m<module>\u001b[0;34m\u001b[0m\n\u001b[1;32m     14\u001b[0m         \u001b[0;32mfor\u001b[0m \u001b[0mi\u001b[0m \u001b[0;32min\u001b[0m \u001b[0mrange\u001b[0m\u001b[0;34m(\u001b[0m\u001b[0mmax_loop\u001b[0m\u001b[0;34m)\u001b[0m\u001b[0;34m:\u001b[0m\u001b[0;34m\u001b[0m\u001b[0;34m\u001b[0m\u001b[0m\n\u001b[1;32m     15\u001b[0m             \u001b[0mr\u001b[0m \u001b[0;34m=\u001b[0m \u001b[0ms\u001b[0m \u001b[0;34m+\u001b[0m \u001b[0;34m(\u001b[0m\u001b[0mb\u001b[0m \u001b[0;34m*\u001b[0m \u001b[0mnp\u001b[0m\u001b[0;34m.\u001b[0m\u001b[0mmatmul\u001b[0m\u001b[0;34m(\u001b[0m\u001b[0mAT\u001b[0m\u001b[0;34m,\u001b[0m \u001b[0;34m(\u001b[0m\u001b[0my\u001b[0m \u001b[0;34m-\u001b[0m \u001b[0mnp\u001b[0m\u001b[0;34m.\u001b[0m\u001b[0mmatmul\u001b[0m\u001b[0;34m(\u001b[0m\u001b[0mA\u001b[0m\u001b[0;34m,\u001b[0m \u001b[0ms\u001b[0m\u001b[0;34m)\u001b[0m\u001b[0;34m)\u001b[0m\u001b[0;34m)\u001b[0m\u001b[0;34m)\u001b[0m\u001b[0;34m\u001b[0m\u001b[0;34m\u001b[0m\u001b[0m\n\u001b[0;32m---> 16\u001b[0;31m             \u001b[0ms\u001b[0m \u001b[0;34m=\u001b[0m \u001b[0msoft_function_li\u001b[0m\u001b[0;34m(\u001b[0m\u001b[0mr\u001b[0m\u001b[0;34m,\u001b[0m \u001b[0mtao\u001b[0m\u001b[0;34m)\u001b[0m\u001b[0;34m\u001b[0m\u001b[0;34m\u001b[0m\u001b[0m\n\u001b[0m\u001b[1;32m     17\u001b[0m             \u001b[0mtemp_diff\u001b[0m \u001b[0;34m=\u001b[0m \u001b[0mnp\u001b[0m\u001b[0;34m.\u001b[0m\u001b[0mlinalg\u001b[0m\u001b[0;34m.\u001b[0m\u001b[0mnorm\u001b[0m\u001b[0;34m(\u001b[0m\u001b[0mr\u001b[0m \u001b[0;34m-\u001b[0m \u001b[0mh\u001b[0m\u001b[0;34m,\u001b[0m \u001b[0;36m2\u001b[0m\u001b[0;34m)\u001b[0m\u001b[0;34m\u001b[0m\u001b[0;34m\u001b[0m\u001b[0m\n\u001b[1;32m     18\u001b[0m             \u001b[0mstep_counter\u001b[0m \u001b[0;34m=\u001b[0m \u001b[0mstep_counter\u001b[0m \u001b[0;34m+\u001b[0m \u001b[0;36m1\u001b[0m\u001b[0;34m\u001b[0m\u001b[0;34m\u001b[0m\u001b[0m\n",
      "\u001b[0;32m<ipython-input-2-f6f4b4368ed6>\u001b[0m in \u001b[0;36msoft_function_li\u001b[0;34m(vector, tao)\u001b[0m\n\u001b[1;32m     17\u001b[0m             \u001b[0mvector\u001b[0m\u001b[0;34m[\u001b[0m\u001b[0mi\u001b[0m\u001b[0;34m]\u001b[0m \u001b[0;34m=\u001b[0m \u001b[0;36m0\u001b[0m\u001b[0;34m\u001b[0m\u001b[0;34m\u001b[0m\u001b[0m\n\u001b[1;32m     18\u001b[0m         \u001b[0;32melse\u001b[0m\u001b[0;34m:\u001b[0m\u001b[0;34m\u001b[0m\u001b[0;34m\u001b[0m\u001b[0m\n\u001b[0;32m---> 19\u001b[0;31m             \u001b[0mvector\u001b[0m\u001b[0;34m[\u001b[0m\u001b[0mi\u001b[0m\u001b[0;34m]\u001b[0m \u001b[0;34m=\u001b[0m \u001b[0mvector\u001b[0m\u001b[0;34m[\u001b[0m\u001b[0mi\u001b[0m\u001b[0;34m]\u001b[0m \u001b[0;34m-\u001b[0m \u001b[0;34m(\u001b[0m\u001b[0mnp\u001b[0m\u001b[0;34m.\u001b[0m\u001b[0msign\u001b[0m\u001b[0;34m(\u001b[0m\u001b[0mvector\u001b[0m\u001b[0;34m[\u001b[0m\u001b[0mi\u001b[0m\u001b[0;34m]\u001b[0m\u001b[0;34m)\u001b[0m \u001b[0;34m*\u001b[0m \u001b[0mtao\u001b[0m\u001b[0;34m)\u001b[0m\u001b[0;34m\u001b[0m\u001b[0;34m\u001b[0m\u001b[0m\n\u001b[0m\u001b[1;32m     20\u001b[0m     \u001b[0;32mreturn\u001b[0m \u001b[0mvector\u001b[0m\u001b[0;34m\u001b[0m\u001b[0;34m\u001b[0m\u001b[0m\n",
      "\u001b[0;31mKeyboardInterrupt\u001b[0m: "
     ]
    }
   ],
   "source": [
    "b = 0.002\n",
    "print(\"b\\tnmse\\tstep\")\n",
    "for bb in range(15):\n",
    "    nmse_sum = 0\n",
    "    step_sum = 0\n",
    "    for point in range(sample_number):\n",
    "        y = Y_set[point]\n",
    "        h = H_set[point]\n",
    "        s = np.zeros(user_number)\n",
    "        r = s + (b * np.matmul(AT, (y - np.matmul(A, s))))\n",
    "        s = soft_function_li(r, tao)\n",
    "        diff = 0\n",
    "        step_counter = 1\n",
    "        for i in range(max_loop):\n",
    "            r = s + (b * np.matmul(AT, (y - np.matmul(A, s))))\n",
    "            s = soft_function_li(r, tao)\n",
    "            temp_diff = np.linalg.norm(r - h, 2)\n",
    "            step_counter = step_counter + 1\n",
    "    #         print(temp_diff)\n",
    "            if np.absolute(temp_diff - diff) < limt:\n",
    "                break\n",
    "            else:\n",
    "                diff = temp_diff\n",
    "        temp_nmse = np.linalg.norm(r - h, 2)/ np.linalg.norm(h, 2)\n",
    "        nmse_sum += temp_nmse \n",
    "        step_sum += step_counter\n",
    "    print(b, end='\\t')\n",
    "    print(nmse_sum/sample_number, end='\\t')\n",
    "    print(step_sum/sample_number)\n",
    "    \n",
    "    b += 0.001"
   ]
  },
  {
   "cell_type": "code",
   "execution_count": 102,
   "metadata": {},
   "outputs": [
    {
     "name": "stdout",
     "output_type": "stream",
     "text": [
      "b\tnmse\tstep\n",
      "0.001\t0.2845102325295473\t299.45\n",
      "0.0012000000000000001\t0.26536012928623737\t295.21\n",
      "0.0014000000000000002\t0.25360962416778443\t290.65\n",
      "0.0016000000000000003\t0.24710656945845078\t287.4\n",
      "0.0018000000000000004\t0.24370991250997823\t283.45\n",
      "0.0020000000000000005\t0.24163710926630028\t280.14\n",
      "0.0022000000000000006\t0.24140630170398686\t279.49\n",
      "0.0024000000000000007\t0.24220783995295384\t280.34\n",
      "0.0026000000000000007\t0.24270482239599758\t272.78\n",
      "0.002800000000000001\t0.244780557961612\t269.86\n",
      "0.003000000000000001\t0.2471280894384091\t273.4\n",
      "0.003200000000000001\t0.24940557663800125\t271.95\n",
      "0.003400000000000001\t0.25202973661316563\t271.56\n",
      "0.003600000000000001\t0.2544300440684716\t266.2\n",
      "0.0038000000000000013\t0.25675165954232626\t261.59\n"
     ]
    }
   ],
   "source": [
    "b = 0.001\n",
    "print(\"b\\tnmse\\tstep\")\n",
    "for bb in range(15):\n",
    "    nmse_sum = 0\n",
    "    step_sum = 0\n",
    "    for point in range(sample_number):\n",
    "        y = Y_set[point]\n",
    "        h = H_set[point]\n",
    "        s = np.zeros(user_number)\n",
    "        r = s + (b * np.matmul(AT, (y - np.matmul(A, s))))\n",
    "        s = soft_function_li(r, tao)\n",
    "        diff = 0\n",
    "        step_counter = 1\n",
    "        for i in range(max_loop):\n",
    "            r = s + (b * np.matmul(AT, (y - np.matmul(A, s))))\n",
    "            s = soft_function_li(r, tao)\n",
    "            temp_diff = np.linalg.norm(r - h, 2)\n",
    "            step_counter = step_counter + 1\n",
    "    #         print(temp_diff)\n",
    "            if np.absolute(temp_diff - diff) < limt:\n",
    "                break\n",
    "            else:\n",
    "                diff = temp_diff\n",
    "        temp_nmse = np.power(r - h, 2)/ np.power(h, 2)\n",
    "        nmse_sum += temp_nmse \n",
    "        step_sum += step_counter\n",
    "    print(b, end='\\t')\n",
    "    print(nmse_sum/sample_number, end='\\t')\n",
    "    print(step_sum/sample_number)\n",
    "    \n",
    "    b += 0.0002"
   ]
  },
  {
   "cell_type": "code",
   "execution_count": 111,
   "metadata": {},
   "outputs": [
    {
     "name": "stdout",
     "output_type": "stream",
     "text": [
      "b\tnmse\tstep\n",
      "0.001\t-10.507381173189874\t299.45\n",
      "0.0012000000000000001\t-11.088953352908979\t295.21\n",
      "0.0014000000000000002\t-11.476129890960014\t290.65\n",
      "0.0016000000000000003\t-11.705737642902292\t287.4\n",
      "0.0018000000000000004\t-11.832653635970406\t283.45\n",
      "0.0020000000000000005\t-11.909982680128152\t280.14\n",
      "0.0022000000000000006\t-11.929828930529887\t279.49\n",
      "0.0024000000000000007\t-11.908699964771463\t280.34\n",
      "0.0026000000000000007\t-11.893194991405025\t272.78\n",
      "0.002800000000000001\t-11.82666299259083\t269.86\n",
      "0.003000000000000001\t-11.747395199842831\t273.4\n",
      "0.003200000000000001\t-11.67032529014713\t271.95\n",
      "0.003400000000000001\t-11.580900973529156\t271.56\n",
      "0.003600000000000001\t-11.500531764864213\t266.2\n",
      "0.0038000000000000013\t-11.421240001595606\t261.59\n"
     ]
    }
   ],
   "source": [
    "b = 0.001\n",
    "print(\"b\\tnmse\\tstep\")\n",
    "for bb in range(15):\n",
    "    nmse_sum = 0\n",
    "    step_sum = 0\n",
    "    for point in range(sample_number):\n",
    "        y = Y_set[point]\n",
    "        h = H_set[point]\n",
    "        s = np.zeros(user_number)\n",
    "        r = s + (b * np.matmul(AT, (y - np.matmul(A, s))))\n",
    "        s = soft_function_li(r, tao)\n",
    "        diff = 0\n",
    "        step_counter = 1\n",
    "        for i in range(max_loop):\n",
    "            r = s + (b * np.matmul(AT, (y - np.matmul(A, s))))\n",
    "            s = soft_function_li(r, tao)\n",
    "            temp_diff = np.linalg.norm(r - h, 2)\n",
    "            step_counter = step_counter + 1\n",
    "    #         print(temp_diff)\n",
    "            if np.absolute(temp_diff - diff) < limt:\n",
    "                break\n",
    "            else:\n",
    "                diff = temp_diff\n",
    "        temp_nmse = np.sum(np.power(r - h, 2))/ np.sum(np.power(h, 2))\n",
    "        nmse_sum += temp_nmse \n",
    "        step_sum += step_counter\n",
    "    print(b, end='\\t')\n",
    "    print(dt.rate_2_dB(nmse_sum/sample_number), end='\\t')\n",
    "    print(step_sum/sample_number)\n",
    "    \n",
    "    b += 0.0002"
   ]
  },
  {
   "cell_type": "code",
   "execution_count": 128,
   "metadata": {},
   "outputs": [],
   "source": [
    "Y_set, X_set, H_set, Y_wo_set = dt.get_dataset_with_noise(100, signature_matrix, 10, is_fading=1)"
   ]
  },
  {
   "cell_type": "code",
   "execution_count": 130,
   "metadata": {},
   "outputs": [
    {
     "name": "stdout",
     "output_type": "stream",
     "text": [
      "b\tnmse\tstep\n",
      "0.001\t-9.099038675062694\t554.45\n",
      "0.0012000000000000001\t-9.449458402011485\t554.07\n",
      "0.0014000000000000002\t-9.622056689082129\t551.63\n",
      "0.0016000000000000003\t-9.690298771757655\t545.6\n",
      "0.0018000000000000004\t-9.706014739939256\t546.08\n",
      "0.0020000000000000005\t-9.688952804096637\t545.12\n",
      "0.0022000000000000006\t-9.653195000038336\t539.55\n",
      "0.0024000000000000007\t-9.605440316632425\t534.03\n",
      "0.0026000000000000007\t-9.551078304482001\t536.2\n",
      "0.002800000000000001\t-9.487785686850051\t534.09\n",
      "0.003000000000000001\t-9.424040214944288\t530.03\n",
      "0.003200000000000001\t-9.350479679868851\t533.68\n",
      "0.003400000000000001\t-9.295316436479327\t532.63\n",
      "0.003600000000000001\t-9.22948981745025\t529.93\n",
      "0.0038000000000000013\t-9.162729076696069\t521.71\n"
     ]
    }
   ],
   "source": [
    "b = 0.001\n",
    "print(\"b\\tnmse\\tstep\")\n",
    "sample_number = Y_set.shape[0]\n",
    "for bb in range(15):\n",
    "    nmse_sum = 0\n",
    "    step_sum = 0\n",
    "    for point in range(sample_number):\n",
    "        y = Y_set[point]\n",
    "        h = H_set[point]\n",
    "        s = np.zeros(user_number)\n",
    "        r = s + (b * np.matmul(AT, (y - np.matmul(A, s))))\n",
    "        s = soft_function(r, tao)\n",
    "        diff = 0\n",
    "        step_counter = 1\n",
    "        for i in range(max_loop):\n",
    "            r = s + (b * np.matmul(AT, (y - np.matmul(A, s))))\n",
    "            s = soft_function(r, tao)\n",
    "            temp_diff = np.linalg.norm(r - h, 2)\n",
    "            step_counter = step_counter + 1\n",
    "    #         print(temp_diff)\n",
    "            if np.absolute(temp_diff - diff) < limt:\n",
    "                break\n",
    "            else:\n",
    "                diff = temp_diff\n",
    "        temp_nmse = np.sum(np.power(r - h, 2))/ np.sum(np.power(h, 2))\n",
    "        nmse_sum += temp_nmse \n",
    "        step_sum += step_counter\n",
    "    print(b, end='\\t')\n",
    "    print(dt.rate_2_dB(nmse_sum/sample_number), end='\\t')\n",
    "    print(step_sum/sample_number)\n",
    "    \n",
    "    b += 0.0002"
   ]
  },
  {
   "cell_type": "code",
   "execution_count": 119,
   "metadata": {},
   "outputs": [],
   "source": [
    "Y_set, X_set, H_set, Y_wo_set = dt.get_dataset_with_noise(1000, signature_matrix, 20, is_fading=1)"
   ]
  },
  {
   "cell_type": "code",
   "execution_count": 120,
   "metadata": {},
   "outputs": [
    {
     "name": "stdout",
     "output_type": "stream",
     "text": [
      "b\tnmse\tstep\n",
      "0.001\t-12.750931863421826\t456.005\n",
      "0.002\t-17.38665100226244\t348.009\n",
      "0.003\t-19.605854189811122\t293.148\n",
      "0.004\t-20.73777914066898\t262.9\n",
      "0.005\t-21.310944291356456\t243.646\n",
      "0.006\t-21.58709416018382\t232.286\n",
      "0.007\t-21.687815788940583\t224.621\n",
      "0.008\t233.16435240902354\t228.067\n"
     ]
    },
    {
     "ename": "KeyboardInterrupt",
     "evalue": "",
     "output_type": "error",
     "traceback": [
      "\u001b[0;31m---------------------------------------------------------------------------\u001b[0m",
      "\u001b[0;31mKeyboardInterrupt\u001b[0m                         Traceback (most recent call last)",
      "\u001b[0;32m<ipython-input-120-a214582110e9>\u001b[0m in \u001b[0;36m<module>\u001b[0;34m\u001b[0m\n\u001b[1;32m     15\u001b[0m         \u001b[0;32mfor\u001b[0m \u001b[0mi\u001b[0m \u001b[0;32min\u001b[0m \u001b[0mrange\u001b[0m\u001b[0;34m(\u001b[0m\u001b[0mmax_loop\u001b[0m\u001b[0;34m)\u001b[0m\u001b[0;34m:\u001b[0m\u001b[0;34m\u001b[0m\u001b[0;34m\u001b[0m\u001b[0m\n\u001b[1;32m     16\u001b[0m             \u001b[0mr\u001b[0m \u001b[0;34m=\u001b[0m \u001b[0ms\u001b[0m \u001b[0;34m+\u001b[0m \u001b[0;34m(\u001b[0m\u001b[0mb\u001b[0m \u001b[0;34m*\u001b[0m \u001b[0mnp\u001b[0m\u001b[0;34m.\u001b[0m\u001b[0mmatmul\u001b[0m\u001b[0;34m(\u001b[0m\u001b[0mAT\u001b[0m\u001b[0;34m,\u001b[0m \u001b[0;34m(\u001b[0m\u001b[0my\u001b[0m \u001b[0;34m-\u001b[0m \u001b[0mnp\u001b[0m\u001b[0;34m.\u001b[0m\u001b[0mmatmul\u001b[0m\u001b[0;34m(\u001b[0m\u001b[0mA\u001b[0m\u001b[0;34m,\u001b[0m \u001b[0ms\u001b[0m\u001b[0;34m)\u001b[0m\u001b[0;34m)\u001b[0m\u001b[0;34m)\u001b[0m\u001b[0;34m)\u001b[0m\u001b[0;34m\u001b[0m\u001b[0;34m\u001b[0m\u001b[0m\n\u001b[0;32m---> 17\u001b[0;31m             \u001b[0ms\u001b[0m \u001b[0;34m=\u001b[0m \u001b[0msoft_function_li\u001b[0m\u001b[0;34m(\u001b[0m\u001b[0mr\u001b[0m\u001b[0;34m,\u001b[0m \u001b[0mtao\u001b[0m\u001b[0;34m)\u001b[0m\u001b[0;34m\u001b[0m\u001b[0;34m\u001b[0m\u001b[0m\n\u001b[0m\u001b[1;32m     18\u001b[0m             \u001b[0mtemp_diff\u001b[0m \u001b[0;34m=\u001b[0m \u001b[0mnp\u001b[0m\u001b[0;34m.\u001b[0m\u001b[0mlinalg\u001b[0m\u001b[0;34m.\u001b[0m\u001b[0mnorm\u001b[0m\u001b[0;34m(\u001b[0m\u001b[0mr\u001b[0m \u001b[0;34m-\u001b[0m \u001b[0mh\u001b[0m\u001b[0;34m,\u001b[0m \u001b[0;36m2\u001b[0m\u001b[0;34m)\u001b[0m\u001b[0;34m\u001b[0m\u001b[0;34m\u001b[0m\u001b[0m\n\u001b[1;32m     19\u001b[0m             \u001b[0mstep_counter\u001b[0m \u001b[0;34m=\u001b[0m \u001b[0mstep_counter\u001b[0m \u001b[0;34m+\u001b[0m \u001b[0;36m1\u001b[0m\u001b[0;34m\u001b[0m\u001b[0;34m\u001b[0m\u001b[0m\n",
      "\u001b[0;32m<ipython-input-2-f6f4b4368ed6>\u001b[0m in \u001b[0;36msoft_function_li\u001b[0;34m(vector, tao)\u001b[0m\n\u001b[1;32m     17\u001b[0m             \u001b[0mvector\u001b[0m\u001b[0;34m[\u001b[0m\u001b[0mi\u001b[0m\u001b[0;34m]\u001b[0m \u001b[0;34m=\u001b[0m \u001b[0;36m0\u001b[0m\u001b[0;34m\u001b[0m\u001b[0;34m\u001b[0m\u001b[0m\n\u001b[1;32m     18\u001b[0m         \u001b[0;32melse\u001b[0m\u001b[0;34m:\u001b[0m\u001b[0;34m\u001b[0m\u001b[0;34m\u001b[0m\u001b[0m\n\u001b[0;32m---> 19\u001b[0;31m             \u001b[0mvector\u001b[0m\u001b[0;34m[\u001b[0m\u001b[0mi\u001b[0m\u001b[0;34m]\u001b[0m \u001b[0;34m=\u001b[0m \u001b[0mvector\u001b[0m\u001b[0;34m[\u001b[0m\u001b[0mi\u001b[0m\u001b[0;34m]\u001b[0m \u001b[0;34m-\u001b[0m \u001b[0;34m(\u001b[0m\u001b[0mnp\u001b[0m\u001b[0;34m.\u001b[0m\u001b[0msign\u001b[0m\u001b[0;34m(\u001b[0m\u001b[0mvector\u001b[0m\u001b[0;34m[\u001b[0m\u001b[0mi\u001b[0m\u001b[0;34m]\u001b[0m\u001b[0;34m)\u001b[0m \u001b[0;34m*\u001b[0m \u001b[0mtao\u001b[0m\u001b[0;34m)\u001b[0m\u001b[0;34m\u001b[0m\u001b[0;34m\u001b[0m\u001b[0m\n\u001b[0m\u001b[1;32m     20\u001b[0m     \u001b[0;32mreturn\u001b[0m \u001b[0mvector\u001b[0m\u001b[0;34m\u001b[0m\u001b[0;34m\u001b[0m\u001b[0m\n",
      "\u001b[0;31mKeyboardInterrupt\u001b[0m: "
     ]
    }
   ],
   "source": [
    "b = 0.001\n",
    "print(\"b\\tnmse\\tstep\")\n",
    "sample_number = Y_set.shape[0]\n",
    "for bb in range(30):\n",
    "    nmse_sum = 0\n",
    "    step_sum = 0\n",
    "    for point in range(sample_number):\n",
    "        y = Y_set[point]\n",
    "        h = H_set[point]\n",
    "        s = np.zeros(user_number)\n",
    "        r = s + (b * np.matmul(AT, (y - np.matmul(A, s))))\n",
    "        s = soft_function_li(r, tao)\n",
    "        diff = 0\n",
    "        step_counter = 1\n",
    "        for i in range(max_loop):\n",
    "            r = s + (b * np.matmul(AT, (y - np.matmul(A, s))))\n",
    "            s = soft_function_li(r, tao)\n",
    "            temp_diff = np.linalg.norm(r - h, 2)\n",
    "            step_counter = step_counter + 1\n",
    "    #         print(temp_diff)\n",
    "            if np.absolute(temp_diff - diff) < limt:\n",
    "                break\n",
    "            else:\n",
    "                diff = temp_diff\n",
    "        temp_nmse = np.sum(np.power(r - h, 2))/ np.sum(np.power(h, 2))\n",
    "        nmse_sum += temp_nmse \n",
    "        step_sum += step_counter\n",
    "    print(b, end='\\t')\n",
    "    print(dt.rate_2_dB(nmse_sum/sample_number), end='\\t')\n",
    "    print(step_sum/sample_number)\n",
    "    \n",
    "    b += 0.001 "
   ]
  },
  {
   "cell_type": "code",
   "execution_count": 121,
   "metadata": {},
   "outputs": [
    {
     "name": "stdout",
     "output_type": "stream",
     "text": [
      "b\tnmse\tstep\n",
      "0.004\t-16.997827638168935\t430.395\n",
      "0.005\t-17.311994491108898\t423.621\n",
      "0.006\t-17.45820909839193\t420.732\n",
      "0.007\t-17.51784352114205\t420.584\n",
      "0.008\t1160.3902973962245\t599.684\n"
     ]
    }
   ],
   "source": [
    "b = 0.004\n",
    "print(\"b\\tnmse\\tstep\")\n",
    "sample_number = Y_set.shape[0]\n",
    "for bb in range(5):\n",
    "    nmse_sum = 0\n",
    "    step_sum = 0\n",
    "    for point in range(sample_number):\n",
    "        y = Y_set[point]\n",
    "        h = H_set[point]\n",
    "        s = np.zeros(user_number)\n",
    "        r = s + (b * np.matmul(AT, (y - np.matmul(A, s))))\n",
    "        s = soft_function(r, tao)\n",
    "        diff = 0\n",
    "        step_counter = 1\n",
    "        for i in range(max_loop):\n",
    "            r = s + (b * np.matmul(AT, (y - np.matmul(A, s))))\n",
    "            s = soft_function(r, tao)\n",
    "            temp_diff = np.linalg.norm(r - h, 2)\n",
    "            step_counter = step_counter + 1\n",
    "    #         print(temp_diff)\n",
    "            if np.absolute(temp_diff - diff) < limt:\n",
    "                break\n",
    "            else:\n",
    "                diff = temp_diff\n",
    "        temp_nmse = np.sum(np.power(r - h, 2))/ np.sum(np.power(h, 2))\n",
    "        nmse_sum += temp_nmse \n",
    "        step_sum += step_counter\n",
    "    print(b, end='\\t')\n",
    "    print(dt.rate_2_dB(nmse_sum/sample_number), end='\\t')\n",
    "    print(step_sum/sample_number)\n",
    "    \n",
    "    b += 0.001 "
   ]
  },
  {
   "cell_type": "code",
   "execution_count": 122,
   "metadata": {},
   "outputs": [],
   "source": [
    "Y_set, X_set, H_set, Y_wo_set = dt.get_dataset_with_noise(1000, signature_matrix, 40, is_fading=1)"
   ]
  },
  {
   "cell_type": "code",
   "execution_count": 123,
   "metadata": {},
   "outputs": [
    {
     "name": "stdout",
     "output_type": "stream",
     "text": [
      "b\tnmse\tstep\n",
      "0.00802\t1184.1945209927635\t599.92\n"
     ]
    },
    {
     "ename": "KeyboardInterrupt",
     "evalue": "",
     "output_type": "error",
     "traceback": [
      "\u001b[0;31m---------------------------------------------------------------------------\u001b[0m",
      "\u001b[0;31mKeyboardInterrupt\u001b[0m                         Traceback (most recent call last)",
      "\u001b[0;32m<ipython-input-123-19e05f7101cb>\u001b[0m in \u001b[0;36m<module>\u001b[0;34m\u001b[0m\n\u001b[1;32m     15\u001b[0m         \u001b[0;32mfor\u001b[0m \u001b[0mi\u001b[0m \u001b[0;32min\u001b[0m \u001b[0mrange\u001b[0m\u001b[0;34m(\u001b[0m\u001b[0mmax_loop\u001b[0m\u001b[0;34m)\u001b[0m\u001b[0;34m:\u001b[0m\u001b[0;34m\u001b[0m\u001b[0;34m\u001b[0m\u001b[0m\n\u001b[1;32m     16\u001b[0m             \u001b[0mr\u001b[0m \u001b[0;34m=\u001b[0m \u001b[0ms\u001b[0m \u001b[0;34m+\u001b[0m \u001b[0;34m(\u001b[0m\u001b[0mb\u001b[0m \u001b[0;34m*\u001b[0m \u001b[0mnp\u001b[0m\u001b[0;34m.\u001b[0m\u001b[0mmatmul\u001b[0m\u001b[0;34m(\u001b[0m\u001b[0mAT\u001b[0m\u001b[0;34m,\u001b[0m \u001b[0;34m(\u001b[0m\u001b[0my\u001b[0m \u001b[0;34m-\u001b[0m \u001b[0mnp\u001b[0m\u001b[0;34m.\u001b[0m\u001b[0mmatmul\u001b[0m\u001b[0;34m(\u001b[0m\u001b[0mA\u001b[0m\u001b[0;34m,\u001b[0m \u001b[0ms\u001b[0m\u001b[0;34m)\u001b[0m\u001b[0;34m)\u001b[0m\u001b[0;34m)\u001b[0m\u001b[0;34m)\u001b[0m\u001b[0;34m\u001b[0m\u001b[0;34m\u001b[0m\u001b[0m\n\u001b[0;32m---> 17\u001b[0;31m             \u001b[0ms\u001b[0m \u001b[0;34m=\u001b[0m \u001b[0msoft_function\u001b[0m\u001b[0;34m(\u001b[0m\u001b[0mr\u001b[0m\u001b[0;34m,\u001b[0m \u001b[0mtao\u001b[0m\u001b[0;34m)\u001b[0m\u001b[0;34m\u001b[0m\u001b[0;34m\u001b[0m\u001b[0m\n\u001b[0m\u001b[1;32m     18\u001b[0m             \u001b[0mtemp_diff\u001b[0m \u001b[0;34m=\u001b[0m \u001b[0mnp\u001b[0m\u001b[0;34m.\u001b[0m\u001b[0mlinalg\u001b[0m\u001b[0;34m.\u001b[0m\u001b[0mnorm\u001b[0m\u001b[0;34m(\u001b[0m\u001b[0mr\u001b[0m \u001b[0;34m-\u001b[0m \u001b[0mh\u001b[0m\u001b[0;34m,\u001b[0m \u001b[0;36m2\u001b[0m\u001b[0;34m)\u001b[0m\u001b[0;34m\u001b[0m\u001b[0;34m\u001b[0m\u001b[0m\n\u001b[1;32m     19\u001b[0m             \u001b[0mstep_counter\u001b[0m \u001b[0;34m=\u001b[0m \u001b[0mstep_counter\u001b[0m \u001b[0;34m+\u001b[0m \u001b[0;36m1\u001b[0m\u001b[0;34m\u001b[0m\u001b[0;34m\u001b[0m\u001b[0m\n",
      "\u001b[0;32m<ipython-input-2-f6f4b4368ed6>\u001b[0m in \u001b[0;36msoft_function\u001b[0;34m(vector, tao)\u001b[0m\n\u001b[1;32m      6\u001b[0m \u001b[0;32mdef\u001b[0m \u001b[0msoft_function\u001b[0m\u001b[0;34m(\u001b[0m\u001b[0mvector\u001b[0m\u001b[0;34m,\u001b[0m \u001b[0mtao\u001b[0m\u001b[0;34m)\u001b[0m\u001b[0;34m:\u001b[0m\u001b[0;34m\u001b[0m\u001b[0;34m\u001b[0m\u001b[0m\n\u001b[1;32m      7\u001b[0m     \u001b[0;32mfor\u001b[0m \u001b[0mi\u001b[0m \u001b[0;32min\u001b[0m \u001b[0mrange\u001b[0m\u001b[0;34m(\u001b[0m\u001b[0mvector\u001b[0m\u001b[0;34m.\u001b[0m\u001b[0msize\u001b[0m\u001b[0;34m)\u001b[0m\u001b[0;34m:\u001b[0m\u001b[0;34m\u001b[0m\u001b[0;34m\u001b[0m\u001b[0m\n\u001b[0;32m----> 8\u001b[0;31m         \u001b[0;32mif\u001b[0m \u001b[0mnp\u001b[0m\u001b[0;34m.\u001b[0m\u001b[0mabsolute\u001b[0m\u001b[0;34m(\u001b[0m\u001b[0mvector\u001b[0m\u001b[0;34m[\u001b[0m\u001b[0mi\u001b[0m\u001b[0;34m]\u001b[0m\u001b[0;34m)\u001b[0m \u001b[0;34m<\u001b[0m \u001b[0mtao\u001b[0m\u001b[0;34m:\u001b[0m\u001b[0;34m\u001b[0m\u001b[0;34m\u001b[0m\u001b[0m\n\u001b[0m\u001b[1;32m      9\u001b[0m             \u001b[0mvector\u001b[0m\u001b[0;34m[\u001b[0m\u001b[0mi\u001b[0m\u001b[0;34m]\u001b[0m \u001b[0;34m=\u001b[0m \u001b[0;36m0\u001b[0m\u001b[0;34m\u001b[0m\u001b[0;34m\u001b[0m\u001b[0m\n\u001b[1;32m     10\u001b[0m         \u001b[0;32melse\u001b[0m\u001b[0;34m:\u001b[0m\u001b[0;34m\u001b[0m\u001b[0;34m\u001b[0m\u001b[0m\n",
      "\u001b[0;31mKeyboardInterrupt\u001b[0m: "
     ]
    }
   ],
   "source": [
    "b = 0.00802\n",
    "print(\"b\\tnmse\\tstep\")\n",
    "sample_number = Y_set.shape[0]\n",
    "for bb in range(5):\n",
    "    nmse_sum = 0\n",
    "    step_sum = 0\n",
    "    for point in range(sample_number):\n",
    "        y = Y_set[point]\n",
    "        h = H_set[point]\n",
    "        s = np.zeros(user_number)\n",
    "        r = s + (b * np.matmul(AT, (y - np.matmul(A, s))))\n",
    "        s = soft_function(r, tao)\n",
    "        diff = 0\n",
    "        step_counter = 1\n",
    "        for i in range(max_loop):\n",
    "            r = s + (b * np.matmul(AT, (y - np.matmul(A, s))))\n",
    "            s = soft_function(r, tao)\n",
    "            temp_diff = np.linalg.norm(r - h, 2)\n",
    "            step_counter = step_counter + 1\n",
    "    #         print(temp_diff)\n",
    "            if np.absolute(temp_diff - diff) < limt:\n",
    "                break\n",
    "            else:\n",
    "                diff = temp_diff\n",
    "        temp_nmse = np.sum(np.power(r - h, 2))/ np.sum(np.power(h, 2))\n",
    "        nmse_sum += temp_nmse \n",
    "        step_sum += step_counter\n",
    "    print(b, end='\\t')\n",
    "    print(dt.rate_2_dB(nmse_sum/sample_number), end='\\t')\n",
    "    print(step_sum/sample_number)\n",
    "    \n",
    "    b += 0.000001 "
   ]
  },
  {
   "cell_type": "code",
   "execution_count": 127,
   "metadata": {},
   "outputs": [
    {
     "name": "stdout",
     "output_type": "stream",
     "text": [
      "b\tnmse\tstep\n",
      "0.007\t-29.185470474253385\t158.349\n",
      "0.0071\t-29.304631263087856\t157.083\n",
      "0.007200000000000001\t-29.421128137495046\t156.026\n",
      "0.007300000000000001\t-29.536535038905765\t154.919\n",
      "0.007400000000000001\t-29.649949397310017\t153.83\n",
      "0.0075000000000000015\t-29.76188209574035\t152.751\n",
      "0.007600000000000002\t-29.872726732989456\t151.686\n",
      "0.007700000000000002\t90.2655530477736\t152.061\n",
      "0.007800000000000002\t138.15480564320222\t152.045\n",
      "0.007900000000000003\t185.48279798734157\t155.037\n",
      "0.008000000000000002\t233.93072558651315\t164.102\n",
      "0.008100000000000001\t283.5689593823472\t171.679\n",
      "0.0082\t334.1513691342101\t182.552\n"
     ]
    },
    {
     "ename": "KeyboardInterrupt",
     "evalue": "",
     "output_type": "error",
     "traceback": [
      "\u001b[0;31m---------------------------------------------------------------------------\u001b[0m",
      "\u001b[0;31mKeyboardInterrupt\u001b[0m                         Traceback (most recent call last)",
      "\u001b[0;32m<ipython-input-127-d1a3c2666a0e>\u001b[0m in \u001b[0;36m<module>\u001b[0;34m\u001b[0m\n\u001b[1;32m     16\u001b[0m             \u001b[0mr\u001b[0m \u001b[0;34m=\u001b[0m \u001b[0ms\u001b[0m \u001b[0;34m+\u001b[0m \u001b[0;34m(\u001b[0m\u001b[0mb\u001b[0m \u001b[0;34m*\u001b[0m \u001b[0mnp\u001b[0m\u001b[0;34m.\u001b[0m\u001b[0mmatmul\u001b[0m\u001b[0;34m(\u001b[0m\u001b[0mAT\u001b[0m\u001b[0;34m,\u001b[0m \u001b[0;34m(\u001b[0m\u001b[0my\u001b[0m \u001b[0;34m-\u001b[0m \u001b[0mnp\u001b[0m\u001b[0;34m.\u001b[0m\u001b[0mmatmul\u001b[0m\u001b[0;34m(\u001b[0m\u001b[0mA\u001b[0m\u001b[0;34m,\u001b[0m \u001b[0ms\u001b[0m\u001b[0;34m)\u001b[0m\u001b[0;34m)\u001b[0m\u001b[0;34m)\u001b[0m\u001b[0;34m)\u001b[0m\u001b[0;34m\u001b[0m\u001b[0;34m\u001b[0m\u001b[0m\n\u001b[1;32m     17\u001b[0m             \u001b[0ms\u001b[0m \u001b[0;34m=\u001b[0m \u001b[0msoft_function_li\u001b[0m\u001b[0;34m(\u001b[0m\u001b[0mr\u001b[0m\u001b[0;34m,\u001b[0m \u001b[0mtao\u001b[0m\u001b[0;34m)\u001b[0m\u001b[0;34m\u001b[0m\u001b[0;34m\u001b[0m\u001b[0m\n\u001b[0;32m---> 18\u001b[0;31m             \u001b[0mtemp_diff\u001b[0m \u001b[0;34m=\u001b[0m \u001b[0mnp\u001b[0m\u001b[0;34m.\u001b[0m\u001b[0mlinalg\u001b[0m\u001b[0;34m.\u001b[0m\u001b[0mnorm\u001b[0m\u001b[0;34m(\u001b[0m\u001b[0mr\u001b[0m \u001b[0;34m-\u001b[0m \u001b[0mh\u001b[0m\u001b[0;34m,\u001b[0m \u001b[0;36m2\u001b[0m\u001b[0;34m)\u001b[0m\u001b[0;34m\u001b[0m\u001b[0;34m\u001b[0m\u001b[0m\n\u001b[0m\u001b[1;32m     19\u001b[0m             \u001b[0mstep_counter\u001b[0m \u001b[0;34m=\u001b[0m \u001b[0mstep_counter\u001b[0m \u001b[0;34m+\u001b[0m \u001b[0;36m1\u001b[0m\u001b[0;34m\u001b[0m\u001b[0;34m\u001b[0m\u001b[0m\n\u001b[1;32m     20\u001b[0m     \u001b[0;31m#         print(temp_diff)\u001b[0m\u001b[0;34m\u001b[0m\u001b[0;34m\u001b[0m\u001b[0;34m\u001b[0m\u001b[0m\n",
      "\u001b[0;32m<__array_function__ internals>\u001b[0m in \u001b[0;36mnorm\u001b[0;34m(*args, **kwargs)\u001b[0m\n",
      "\u001b[0;32m/usr/local/lib/python3.8/site-packages/numpy/linalg/linalg.py\u001b[0m in \u001b[0;36mnorm\u001b[0;34m(x, ord, axis, keepdims)\u001b[0m\n\u001b[1;32m   2512\u001b[0m \u001b[0;34m\u001b[0m\u001b[0m\n\u001b[1;32m   2513\u001b[0m     \"\"\"\n\u001b[0;32m-> 2514\u001b[0;31m     \u001b[0mx\u001b[0m \u001b[0;34m=\u001b[0m \u001b[0masarray\u001b[0m\u001b[0;34m(\u001b[0m\u001b[0mx\u001b[0m\u001b[0;34m)\u001b[0m\u001b[0;34m\u001b[0m\u001b[0;34m\u001b[0m\u001b[0m\n\u001b[0m\u001b[1;32m   2515\u001b[0m \u001b[0;34m\u001b[0m\u001b[0m\n\u001b[1;32m   2516\u001b[0m     \u001b[0;32mif\u001b[0m \u001b[0;32mnot\u001b[0m \u001b[0missubclass\u001b[0m\u001b[0;34m(\u001b[0m\u001b[0mx\u001b[0m\u001b[0;34m.\u001b[0m\u001b[0mdtype\u001b[0m\u001b[0;34m.\u001b[0m\u001b[0mtype\u001b[0m\u001b[0;34m,\u001b[0m \u001b[0;34m(\u001b[0m\u001b[0minexact\u001b[0m\u001b[0;34m,\u001b[0m \u001b[0mobject_\u001b[0m\u001b[0;34m)\u001b[0m\u001b[0;34m)\u001b[0m\u001b[0;34m:\u001b[0m\u001b[0;34m\u001b[0m\u001b[0;34m\u001b[0m\u001b[0m\n",
      "\u001b[0;32m/usr/local/lib/python3.8/site-packages/numpy/core/_asarray.py\u001b[0m in \u001b[0;36masarray\u001b[0;34m(a, dtype, order)\u001b[0m\n\u001b[1;32m     81\u001b[0m \u001b[0;34m\u001b[0m\u001b[0m\n\u001b[1;32m     82\u001b[0m     \"\"\"\n\u001b[0;32m---> 83\u001b[0;31m     \u001b[0;32mreturn\u001b[0m \u001b[0marray\u001b[0m\u001b[0;34m(\u001b[0m\u001b[0ma\u001b[0m\u001b[0;34m,\u001b[0m \u001b[0mdtype\u001b[0m\u001b[0;34m,\u001b[0m \u001b[0mcopy\u001b[0m\u001b[0;34m=\u001b[0m\u001b[0;32mFalse\u001b[0m\u001b[0;34m,\u001b[0m \u001b[0morder\u001b[0m\u001b[0;34m=\u001b[0m\u001b[0morder\u001b[0m\u001b[0;34m)\u001b[0m\u001b[0;34m\u001b[0m\u001b[0;34m\u001b[0m\u001b[0m\n\u001b[0m\u001b[1;32m     84\u001b[0m \u001b[0;34m\u001b[0m\u001b[0m\n\u001b[1;32m     85\u001b[0m \u001b[0;34m\u001b[0m\u001b[0m\n",
      "\u001b[0;31mKeyboardInterrupt\u001b[0m: "
     ]
    }
   ],
   "source": [
    "b = 0.007\n",
    "print(\"b\\tnmse\\tstep\")\n",
    "sample_number = Y_set.shape[0]\n",
    "for bb in range(20):\n",
    "    nmse_sum = 0\n",
    "    step_sum = 0\n",
    "    for point in range(sample_number):\n",
    "        y = Y_set[point]\n",
    "        h = H_set[point]\n",
    "        s = np.zeros(user_number)\n",
    "        r = s + (b * np.matmul(AT, (y - np.matmul(A, s))))\n",
    "        s = soft_function_li(r, tao)\n",
    "        diff = 0\n",
    "        step_counter = 1\n",
    "        for i in range(max_loop):\n",
    "            r = s + (b * np.matmul(AT, (y - np.matmul(A, s))))\n",
    "            s = soft_function_li(r, tao)\n",
    "            temp_diff = np.linalg.norm(r - h, 2)\n",
    "            step_counter = step_counter + 1\n",
    "    #         print(temp_diff)\n",
    "            if np.absolute(temp_diff - diff) < limt:\n",
    "                break\n",
    "            else:\n",
    "                diff = temp_diff\n",
    "        temp_nmse = np.sum(np.power(r - h, 2))/ np.sum(np.power(h, 2))\n",
    "        nmse_sum += temp_nmse \n",
    "        step_sum += step_counter\n",
    "    print(b, end='\\t')\n",
    "    print(dt.rate_2_dB(nmse_sum/sample_number), end='\\t')\n",
    "    print(step_sum/sample_number)\n",
    "    \n",
    "    b += 0.0001 "
   ]
  },
  {
   "cell_type": "code",
   "execution_count": 164,
   "metadata": {},
   "outputs": [
    {
     "name": "stdout",
     "output_type": "stream",
     "text": [
      "b\tnmse\tber\tstep\n",
      "0.0022\t-9.695841324089908\t0.11124\t522.31\n"
     ]
    }
   ],
   "source": [
    "tao = 0.01\n",
    "limt = 0.00001\n",
    "max_loop = 600\n",
    "ones_vector = np.ones(user_number)\n",
    "print(\"b\\tnmse\\tber\\tstep\")\n",
    "b = 0.0022\n",
    "Y_set, X_set, H_set, Y_wo_set = dt.get_dataset_with_noise(1000, signature_matrix, 10, is_fading=1)\n",
    "sample_number = Y_set.shape[0]\n",
    "nmse_sum = 0\n",
    "step_sum = 0\n",
    "error_sum = 0\n",
    "for point in range(sample_number):\n",
    "    y = Y_set[point]\n",
    "    h = H_set[point]\n",
    "    x = X_set[point]\n",
    "    s = np.zeros(user_number)\n",
    "    r = s + (b * np.matmul(AT, (y - np.matmul(A, s))))\n",
    "    s = soft_function(r, tao)\n",
    "    diff = 0\n",
    "    step_counter = 1\n",
    "    for i in range(max_loop):\n",
    "        r = s + (b * np.matmul(AT, (y - np.matmul(A, s))))\n",
    "        s = soft_function(r, tao)\n",
    "        temp_diff = np.linalg.norm(r - h, 2)\n",
    "        step_counter = step_counter + 1\n",
    "        if np.absolute(temp_diff - diff) < limt:\n",
    "            break\n",
    "        else:\n",
    "            diff = temp_diff\n",
    "    temp_nmse = np.sum(np.power(s - h, 2))/ np.sum(np.power(h, 2))\n",
    "    temp_error = np.count_nonzero((s>tao) * ones_vector - x)\n",
    "    nmse_sum += temp_nmse \n",
    "    step_sum += step_counter\n",
    "    error_sum += temp_error\n",
    "print(b, end='\\t')\n",
    "print(dt.rate_2_dB(nmse_sum/sample_number), end='\\t')\n",
    "print(error_sum/(sample_number*user_number), end='\\t')\n",
    "print(step_sum/sample_number)"
   ]
  },
  {
   "cell_type": "code",
   "execution_count": 163,
   "metadata": {},
   "outputs": [
    {
     "name": "stdout",
     "output_type": "stream",
     "text": [
      "b\tnmse\tber\tstep\n",
      "0.007\t-17.417868443138495\t0.09312\t422.349\n"
     ]
    }
   ],
   "source": [
    "tao = 0.01\n",
    "limt = 0.00001\n",
    "max_loop = 600\n",
    "print(\"b\\tnmse\\tber\\tstep\")\n",
    "b = 0.007\n",
    "Y_set, X_set, H_set, Y_wo_set = dt.get_dataset_with_noise(1000, signature_matrix, 20, is_fading=1)\n",
    "sample_number = Y_set.shape[0]\n",
    "nmse_sum = 0\n",
    "step_sum = 0\n",
    "error_sum = 0\n",
    "ones_vector = np.ones(user_number)\n",
    "for point in range(sample_number):\n",
    "    y = Y_set[point]\n",
    "    h = H_set[point]\n",
    "    x = X_set[point]\n",
    "    s = np.zeros(user_number)\n",
    "    r = s + (b * np.matmul(AT, (y - np.matmul(A, s))))\n",
    "    s = soft_function(r, tao)\n",
    "    diff = 0\n",
    "    step_counter = 1\n",
    "    for i in range(max_loop):\n",
    "        r = s + (b * np.matmul(AT, (y - np.matmul(A, s))))\n",
    "        s = soft_function(r, tao)\n",
    "        temp_diff = np.linalg.norm(r - h, 2)\n",
    "        step_counter = step_counter + 1\n",
    "        if np.absolute(temp_diff - diff) < limt:\n",
    "            break\n",
    "        else:\n",
    "            diff = temp_diff\n",
    "    temp_nmse = np.sum(np.power(s - h, 2))/ np.sum(np.power(h, 2))\n",
    "    temp_error = np.count_nonzero((s>tao) * ones_vector - x)\n",
    "    nmse_sum += temp_nmse \n",
    "    step_sum += step_counter\n",
    "    error_sum += temp_error\n",
    "print(b, end='\\t')\n",
    "print(dt.rate_2_dB(nmse_sum/sample_number), end='\\t')\n",
    "print(error_sum/(sample_number*user_number), end='\\t')\n",
    "print(step_sum/sample_number)"
   ]
  },
  {
   "cell_type": "code",
   "execution_count": null,
   "metadata": {},
   "outputs": [],
   "source": []
  },
  {
   "cell_type": "code",
   "execution_count": null,
   "metadata": {},
   "outputs": [],
   "source": []
  },
  {
   "cell_type": "code",
   "execution_count": 161,
   "metadata": {},
   "outputs": [
    {
     "data": {
      "text/plain": [
       "(100,)"
      ]
     },
     "execution_count": 161,
     "metadata": {},
     "output_type": "execute_result"
    }
   ],
   "source": [
    "np.shape((s>tao) * ones_vector)"
   ]
  },
  {
   "cell_type": "code",
   "execution_count": 162,
   "metadata": {},
   "outputs": [
    {
     "data": {
      "text/plain": [
       "(100,)"
      ]
     },
     "execution_count": 162,
     "metadata": {},
     "output_type": "execute_result"
    }
   ],
   "source": [
    "np.shape(x)"
   ]
  },
  {
   "cell_type": "code",
   "execution_count": 151,
   "metadata": {},
   "outputs": [
    {
     "data": {
      "text/plain": [
       "array([0.        , 0.        , 0.        , 0.        , 0.        ,\n",
       "       2.01482852, 0.        , 0.        , 0.        , 0.        ,\n",
       "       0.        , 0.        , 0.        , 0.        , 0.        ,\n",
       "       0.        , 0.        , 0.        , 0.        , 0.        ,\n",
       "       0.7542495 , 0.        , 0.        , 0.        , 0.        ,\n",
       "       0.        , 0.        , 0.        , 0.        , 0.        ,\n",
       "       0.        , 0.        , 2.57538367, 1.47393046, 0.        ,\n",
       "       0.        , 1.96884267, 1.0880578 , 0.        , 0.        ,\n",
       "       0.        , 0.        , 1.18307887, 0.        , 0.        ,\n",
       "       1.43590911, 0.        , 0.        , 0.        , 0.        ,\n",
       "       0.        , 0.        , 1.49020733, 0.        , 0.        ,\n",
       "       0.        , 0.        , 0.        , 0.        , 0.        ,\n",
       "       0.67837387, 0.        , 0.        , 0.        , 0.        ,\n",
       "       0.        , 0.        , 0.        , 0.        , 0.        ,\n",
       "       0.        , 0.        , 0.        , 0.        , 0.        ,\n",
       "       0.        , 0.        , 0.        , 0.        , 0.        ,\n",
       "       0.        , 0.        , 0.        , 0.        , 0.        ,\n",
       "       0.        , 0.        , 0.        , 0.        , 0.        ,\n",
       "       0.        , 0.        , 0.        , 0.        , 0.        ,\n",
       "       0.        , 0.        , 0.        , 0.        , 0.        ])"
      ]
     },
     "execution_count": 151,
     "metadata": {},
     "output_type": "execute_result"
    }
   ],
   "source": [
    "h"
   ]
  },
  {
   "cell_type": "code",
   "execution_count": 165,
   "metadata": {},
   "outputs": [
    {
     "data": {
      "text/plain": [
       "0.0017741926535810915"
      ]
     },
     "execution_count": 165,
     "metadata": {},
     "output_type": "execute_result"
    }
   ],
   "source": [
    "0.5 / np.linalg.norm(A, ord=2)**2"
   ]
  },
  {
   "cell_type": "code",
   "execution_count": 166,
   "metadata": {},
   "outputs": [
    {
     "name": "stdout",
     "output_type": "stream",
     "text": [
      "b\tnmse\tber\tstep\n",
      "0.0017741926535810915\t-14.215875435903182\t0.03512\t484.116\n"
     ]
    }
   ],
   "source": [
    "tao = 0.01\n",
    "limt = 0.00001\n",
    "max_loop = 600\n",
    "print(\"b\\tnmse\\tber\\tstep\")\n",
    "b = 0.5 / np.linalg.norm(A, ord=2)**2\n",
    "Y_set, X_set, H_set, Y_wo_set = dt.get_dataset_with_noise(1000, signature_matrix, 20, is_fading=1)\n",
    "sample_number = Y_set.shape[0]\n",
    "nmse_sum = 0\n",
    "step_sum = 0\n",
    "error_sum = 0\n",
    "ones_vector = np.ones(user_number)\n",
    "for point in range(sample_number):\n",
    "    y = Y_set[point]\n",
    "    h = H_set[point]\n",
    "    x = X_set[point]\n",
    "    s = np.zeros(user_number)\n",
    "    r = s + (b * np.matmul(AT, (y - np.matmul(A, s))))\n",
    "    s = soft_function(r, tao)\n",
    "    diff = 0\n",
    "    step_counter = 1\n",
    "    for i in range(max_loop):\n",
    "        r = s + (b * np.matmul(AT, (y - np.matmul(A, s))))\n",
    "        s = soft_function(r, tao)\n",
    "        temp_diff = np.linalg.norm(r - h, 2)\n",
    "        step_counter = step_counter + 1\n",
    "        if np.absolute(temp_diff - diff) < limt:\n",
    "            break\n",
    "        else:\n",
    "            diff = temp_diff\n",
    "    temp_nmse = np.sum(np.power(s - h, 2))/ np.sum(np.power(h, 2))\n",
    "    temp_error = np.count_nonzero((s>tao) * ones_vector - x)\n",
    "    nmse_sum += temp_nmse \n",
    "    step_sum += step_counter\n",
    "    error_sum += temp_error\n",
    "print(b, end='\\t')\n",
    "print(dt.rate_2_dB(nmse_sum/sample_number), end='\\t')\n",
    "print(error_sum/(sample_number*user_number), end='\\t')\n",
    "print(step_sum/sample_number)"
   ]
  },
  {
   "cell_type": "code",
   "execution_count": null,
   "metadata": {},
   "outputs": [],
   "source": [
    "10dB 0.0022 -9.162729076696069dB -11.929828930529887dB\n",
    "20dB 0.007 -17.51784352114205dB -21.687815788940583dB\n",
    "40dB\n",
    "\n"
   ]
  },
  {
   "cell_type": "code",
   "execution_count": null,
   "metadata": {},
   "outputs": [],
   "source": []
  }
 ],
 "metadata": {
  "kernelspec": {
   "display_name": "Python 3.8",
   "language": "python",
   "name": "python3.8"
  },
  "language_info": {
   "codemirror_mode": {
    "name": "ipython",
    "version": 3
   },
   "file_extension": ".py",
   "mimetype": "text/x-python",
   "name": "python",
   "nbconvert_exporter": "python",
   "pygments_lexer": "ipython3",
   "version": "3.8.7"
  }
 },
 "nbformat": 4,
 "nbformat_minor": 4
}
