{
 "cells": [
  {
   "cell_type": "code",
   "execution_count": 1,
   "metadata": {},
   "outputs": [],
   "source": [
    "try:\n",
    "  # %tensorflow_version only exists in Colab.\n",
    "  %tensorflow_version 2.x\n",
    "except Exception:\n",
    "  pass\n",
    "\n",
    "# Load the TensorBoard notebook extension\n",
    "%load_ext tensorboard"
   ]
  },
  {
   "cell_type": "code",
   "execution_count": 2,
   "metadata": {},
   "outputs": [],
   "source": [
    "import tensorflow as tf\n",
    "import datetime\n",
    "import numpy as np\n",
    "\n",
    "import data_tool as dt\n",
    "\n",
    "from tensorflow import keras\n",
    "from tensorflow.keras import layers"
   ]
  },
  {
   "cell_type": "code",
   "execution_count": 3,
   "metadata": {},
   "outputs": [],
   "source": [
    "# Clear any logs from previous runs\n",
    "%rm -rf ./temp5/logs/"
   ]
  },
  {
   "cell_type": "code",
   "execution_count": 4,
   "metadata": {},
   "outputs": [],
   "source": [
    "class NMSE_Accuracy(keras.metrics.Metric):\n",
    "    def __init__(self, name=\"nmse_accuracy\", **kwargs):\n",
    "        super(NMSE_Accuracy, self).__init__(name=name, **kwargs)\n",
    "        self.sum_nmse = self.add_weight(name=\"sum_nmse\", initializer=\"zeros\")\n",
    "        self.sample_number = self.add_weight(name=\"sample_number\", initializer=\"zeros\")\n",
    "\n",
    "    def update_state(self, y_true, y_pred, sample_weight=None):\n",
    "        diff = y_pred - y_true\n",
    "        fenmu = tf.reduce_sum(tf.pow(y_true, 2), 1)\n",
    "        current_nmse = tf.reduce_sum(tf.reduce_sum(tf.pow(diff, 2), 1) / fenmu)\n",
    "        current_nmse = tf.where(tf.math.is_nan(current_nmse)|tf.math.is_inf(current_nmse), tf.zeros_like(current_nmse), current_nmse)\n",
    "        current_nmse = tf.cast(current_nmse, \"float32\")\n",
    "        self.sum_nmse.assign_add(current_nmse)\n",
    "#         current_sample_number = y_true.shape[0]\n",
    "        current_sample_number = tf.math.count_nonzero(fenmu)\n",
    "        current_sample_number = tf.cast(current_sample_number, \"float32\")\n",
    "        self.sample_number.assign_add(current_sample_number)\n",
    "\n",
    "    def result(self):\n",
    "        return 10 * (tf.math.log(self.sum_nmse / self.sample_number) / tf.math.log(10.))\n",
    "\n",
    "    def reset_states(self):\n",
    "        # The state of the metric will be reset at the start of each epoch.\n",
    "        self.sum_nmse.assign(0.0)\n",
    "        self.sample_number.assign(0.0)\n",
    "\n",
    "\n"
   ]
  },
  {
   "cell_type": "code",
   "execution_count": 6,
   "metadata": {},
   "outputs": [
    {
     "name": "stdout",
     "output_type": "stream",
     "text": [
      "Model: \"estimator\"\n",
      "_________________________________________________________________\n",
      "Layer (type)                 Output Shape              Param #   \n",
      "=================================================================\n",
      "bp1 (BatchNormalization)     (3, 50)                   200       \n",
      "_________________________________________________________________\n",
      "layer1 (Dense)               (3, 150)                  7650      \n",
      "_________________________________________________________________\n",
      "bp2 (BatchNormalization)     (3, 150)                  600       \n",
      "_________________________________________________________________\n",
      "layer2 (Dense)               (3, 150)                  22650     \n",
      "_________________________________________________________________\n",
      "bp3 (BatchNormalization)     (3, 150)                  600       \n",
      "_________________________________________________________________\n",
      "layer3 (Dense)               (3, 150)                  22650     \n",
      "_________________________________________________________________\n",
      "pb4 (BatchNormalization)     (3, 150)                  600       \n",
      "_________________________________________________________________\n",
      "layer4 (Dense)               (3, 100)                  15100     \n",
      "=================================================================\n",
      "Total params: 70,050\n",
      "Trainable params: 69,050\n",
      "Non-trainable params: 1,000\n",
      "_________________________________________________________________\n"
     ]
    }
   ],
   "source": [
    "user_number = 100\n",
    "code_length = 50\n",
    "epoch_number = 30\n",
    "batch_size = 1000\n",
    "\n",
    "estimator = keras.Sequential(\n",
    "    [\n",
    "        tf.keras.layers.BatchNormalization(name=\"bp1\"),\n",
    "        layers.Dense(user_number + code_length, activation=\"relu\", name=\"layer1\"),\n",
    "        tf.keras.layers.BatchNormalization(name=\"bp2\"),\n",
    "        layers.Dense(user_number + code_length, activation=\"relu\", name=\"layer2\"),\n",
    "        tf.keras.layers.BatchNormalization(name=\"bp3\"),\n",
    "        layers.Dense(user_number + code_length, activation=\"relu\", name=\"layer3\"),\n",
    "        tf.keras.layers.BatchNormalization(name=\"pb4\"),\n",
    "        layers.Dense(user_number, activation=\"relu\", name=\"layer4\"),\n",
    "    ],name = 'estimator'\n",
    ")\n",
    "# Call model on a test input\n",
    "y = tf.ones((3, code_length))\n",
    "x_hat = estimator(y)\n",
    "estimator.summary()\n",
    "\n",
    "signature_matrix = dt.get_random_binary_signature_matrix(user_number, code_length)\n",
    "y_set, x_set, h_set = dt.get_dataset(1000000, signature_matrix, is_fading=1)\n",
    "y_set = y_set.astype(\"float32\")\n",
    "x_set = x_set.astype(\"float32\")\n",
    "h_set = h_set.astype(\"float32\")\n",
    "y_test, x_test, h_test = dt.get_dataset(10000, signature_matrix, is_fading=1)\n",
    "y_test = y_test.astype(\"float32\")\n",
    "x_test = x_test.astype(\"float32\")\n",
    "h_test = h_test.astype(\"float32\")"
   ]
  },
  {
   "cell_type": "code",
   "execution_count": 8,
   "metadata": {},
   "outputs": [
    {
     "name": "stdout",
     "output_type": "stream",
     "text": [
      "Epoch 1/30\n",
      "800/800 [==============================] - 14s 15ms/step - loss: 0.1098 - nmse_accuracy: -3.3543 - val_loss: 0.0201 - val_nmse_accuracy: -10.5899\n",
      "Epoch 2/30\n",
      "800/800 [==============================] - 10s 12ms/step - loss: 0.0148 - nmse_accuracy: -11.9557 - val_loss: 0.0106 - val_nmse_accuracy: -13.4975\n",
      "Epoch 3/30\n",
      "800/800 [==============================] - 9s 11ms/step - loss: 0.0100 - nmse_accuracy: -13.7115 - val_loss: 0.0088 - val_nmse_accuracy: -14.3547\n",
      "Epoch 4/30\n",
      "800/800 [==============================] - 9s 11ms/step - loss: 0.0088 - nmse_accuracy: -14.3599 - val_loss: 0.0082 - val_nmse_accuracy: -14.7072\n",
      "Epoch 5/30\n",
      "800/800 [==============================] - 9s 11ms/step - loss: 0.0081 - nmse_accuracy: -14.7402 - val_loss: 0.0077 - val_nmse_accuracy: -15.0136\n",
      "Epoch 6/30\n",
      "800/800 [==============================] - 11s 14ms/step - loss: 0.0077 - nmse_accuracy: -14.8988 - val_loss: 0.0073 - val_nmse_accuracy: -15.2051\n",
      "Epoch 7/30\n",
      "800/800 [==============================] - 10s 13ms/step - loss: 0.0074 - nmse_accuracy: -15.1428 - val_loss: 0.0071 - val_nmse_accuracy: -15.3254\n",
      "Epoch 8/30\n",
      "800/800 [==============================] - 10s 13ms/step - loss: 0.0072 - nmse_accuracy: -15.2100 - val_loss: 0.0070 - val_nmse_accuracy: -15.4142\n",
      "Epoch 9/30\n",
      "800/800 [==============================] - 9s 12ms/step - loss: 0.0071 - nmse_accuracy: -15.3047 - val_loss: 0.0069 - val_nmse_accuracy: -15.4840\n",
      "Epoch 10/30\n",
      "800/800 [==============================] - 11s 14ms/step - loss: 0.0070 - nmse_accuracy: -inf - val_loss: 0.0068 - val_nmse_accuracy: -15.5547\n",
      "Epoch 11/30\n",
      "800/800 [==============================] - 10s 13ms/step - loss: 0.0069 - nmse_accuracy: -15.4485 - val_loss: 0.0067 - val_nmse_accuracy: -15.6148\n",
      "Epoch 12/30\n",
      "800/800 [==============================] - 10s 12ms/step - loss: 0.0068 - nmse_accuracy: -15.4830 - val_loss: 0.0066 - val_nmse_accuracy: -15.6645\n",
      "Epoch 13/30\n",
      "800/800 [==============================] - 10s 13ms/step - loss: 0.0068 - nmse_accuracy: -15.5367 - val_loss: 0.0066 - val_nmse_accuracy: -15.7079\n",
      "Epoch 14/30\n",
      "800/800 [==============================] - 11s 14ms/step - loss: 0.0067 - nmse_accuracy: -15.5624 - val_loss: 0.0065 - val_nmse_accuracy: -15.7411\n",
      "Epoch 15/30\n",
      "800/800 [==============================] - 11s 14ms/step - loss: 0.0067 - nmse_accuracy: -inf - val_loss: 0.0065 - val_nmse_accuracy: -15.7763\n",
      "Epoch 16/30\n",
      "800/800 [==============================] - 12s 15ms/step - loss: 0.0066 - nmse_accuracy: -15.5662 - val_loss: 0.0066 - val_nmse_accuracy: -15.7192\n",
      "Epoch 17/30\n",
      "800/800 [==============================] - 9s 12ms/step - loss: 0.0066 - nmse_accuracy: -inf - val_loss: 0.0065 - val_nmse_accuracy: -15.7869\n",
      "Epoch 18/30\n",
      "800/800 [==============================] - 10s 12ms/step - loss: 0.0066 - nmse_accuracy: -15.6345 - val_loss: 0.0064 - val_nmse_accuracy: -15.8034\n",
      "Epoch 19/30\n",
      "800/800 [==============================] - 10s 12ms/step - loss: 0.0066 - nmse_accuracy: -15.6578 - val_loss: 0.0064 - val_nmse_accuracy: -15.8177\n",
      "Epoch 20/30\n",
      "800/800 [==============================] - 10s 13ms/step - loss: 0.0065 - nmse_accuracy: -15.7033 - val_loss: 0.0064 - val_nmse_accuracy: -15.8413\n",
      "Epoch 21/30\n",
      "800/800 [==============================] - 9s 12ms/step - loss: 0.0065 - nmse_accuracy: -15.7202 - val_loss: 0.0064 - val_nmse_accuracy: -15.8714\n",
      "Epoch 22/30\n",
      "800/800 [==============================] - 10s 12ms/step - loss: 0.0065 - nmse_accuracy: -15.7276 - val_loss: 0.0063 - val_nmse_accuracy: -15.8635\n",
      "Epoch 23/30\n",
      "800/800 [==============================] - 10s 13ms/step - loss: 0.0065 - nmse_accuracy: -15.7385 - val_loss: 0.0063 - val_nmse_accuracy: -15.8949\n",
      "Epoch 24/30\n",
      "800/800 [==============================] - 12s 15ms/step - loss: 0.0064 - nmse_accuracy: -15.7307 - val_loss: 0.0063 - val_nmse_accuracy: -15.9135\n",
      "Epoch 25/30\n",
      "800/800 [==============================] - 11s 14ms/step - loss: 0.0064 - nmse_accuracy: -15.7413 - val_loss: 0.0063 - val_nmse_accuracy: -15.9439\n",
      "Epoch 26/30\n",
      "800/800 [==============================] - 12s 15ms/step - loss: 0.0064 - nmse_accuracy: -15.7751 - val_loss: 0.0062 - val_nmse_accuracy: -15.9778\n",
      "Epoch 27/30\n",
      "800/800 [==============================] - 10s 12ms/step - loss: 0.0064 - nmse_accuracy: -15.7906 - val_loss: 0.0062 - val_nmse_accuracy: -15.9513\n",
      "Epoch 28/30\n",
      "800/800 [==============================] - 10s 12ms/step - loss: 0.0064 - nmse_accuracy: -15.7918 - val_loss: 0.0062 - val_nmse_accuracy: -15.9884\n",
      "Epoch 29/30\n",
      "800/800 [==============================] - 10s 12ms/step - loss: 0.0064 - nmse_accuracy: -15.7951 - val_loss: 0.0062 - val_nmse_accuracy: -15.9826\n",
      "Epoch 30/30\n",
      "800/800 [==============================] - 65s 82ms/step - loss: 0.0064 - nmse_accuracy: -15.7791 - val_loss: 0.0062 - val_nmse_accuracy: -15.9920\n",
      "313/313 - 1s - loss: 0.0062 - nmse_accuracy: -1.5849e+01\n",
      "Test loss: 0.006192738190293312\n",
      "Test accuracy: -15.848990440368652\n"
     ]
    }
   ],
   "source": [
    "estimator.compile(\n",
    "    loss=keras.losses.MeanSquaredError(),\n",
    "    optimizer=keras.optimizers.RMSprop(),\n",
    "    metrics=NMSE_Accuracy(),\n",
    ")\n",
    "\n",
    "log_dir=\"./temp5/logs/fit/\" + datetime.datetime.now().strftime(\"%Y%m%d-%H%M%S\")\n",
    "tensorboard_callback = tf.keras.callbacks.TensorBoard(log_dir=log_dir, histogram_freq=1)\n",
    "\n",
    "history = estimator.fit(y_set, h_set, batch_size=1000, epochs=30, validation_split=0.2, callbacks=[tensorboard_callback])\n",
    "\n",
    "test_scores = estimator.evaluate(y_test, h_test, verbose=2)\n",
    "print(\"Test loss:\", test_scores[0])\n",
    "print(\"Test accuracy:\", test_scores[1])"
   ]
  },
  {
   "cell_type": "code",
   "execution_count": null,
   "metadata": {},
   "outputs": [],
   "source": []
  },
  {
   "cell_type": "code",
   "execution_count": 9,
   "metadata": {},
   "outputs": [
    {
     "data": {
      "text/html": [
       "\n",
       "      <iframe id=\"tensorboard-frame-5846812b0765f5b3\" width=\"100%\" height=\"800\" frameborder=\"0\">\n",
       "      </iframe>\n",
       "      <script>\n",
       "        (function() {\n",
       "          const frame = document.getElementById(\"tensorboard-frame-5846812b0765f5b3\");\n",
       "          const url = new URL(\"/\", window.location);\n",
       "          const port = 6007;\n",
       "          if (port) {\n",
       "            url.port = port;\n",
       "          }\n",
       "          frame.src = url;\n",
       "        })();\n",
       "      </script>\n",
       "    "
      ],
      "text/plain": [
       "<IPython.core.display.HTML object>"
      ]
     },
     "metadata": {},
     "output_type": "display_data"
    }
   ],
   "source": [
    "%tensorboard --logdir ./temp5/logs/fit"
   ]
  },
  {
   "cell_type": "code",
   "execution_count": null,
   "metadata": {},
   "outputs": [],
   "source": []
  }
 ],
 "metadata": {
  "kernelspec": {
   "display_name": "Python 3.8",
   "language": "python",
   "name": "python3.8"
  },
  "language_info": {
   "codemirror_mode": {
    "name": "ipython",
    "version": 3
   },
   "file_extension": ".py",
   "mimetype": "text/x-python",
   "name": "python",
   "nbconvert_exporter": "python",
   "pygments_lexer": "ipython3",
   "version": "3.8.7"
  }
 },
 "nbformat": 4,
 "nbformat_minor": 4
}
