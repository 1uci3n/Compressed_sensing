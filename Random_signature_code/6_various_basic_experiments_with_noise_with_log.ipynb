{
 "cells": [
  {
   "cell_type": "code",
   "execution_count": 1,
   "metadata": {},
   "outputs": [],
   "source": [
    "import tensorflow as tf\n",
    "import datetime\n",
    "import numpy as np\n",
    "\n",
    "import data_tool as dt\n",
    "import keras_tool as kt\n",
    "\n",
    "from tensorflow import keras\n",
    "from tensorflow.keras import layers"
   ]
  },
  {
   "cell_type": "code",
   "execution_count": 2,
   "metadata": {},
   "outputs": [],
   "source": [
    "# Clear any logs from previous runs\n",
    "%rm -rf ./temp6/logs/"
   ]
  },
  {
   "cell_type": "code",
   "execution_count": 3,
   "metadata": {},
   "outputs": [],
   "source": [
    "user_number = 100\n",
    "code_length = 50\n",
    "epoch_number = 30\n",
    "batch_size = 1000"
   ]
  },
  {
   "cell_type": "code",
   "execution_count": 4,
   "metadata": {},
   "outputs": [
    {
     "name": "stdout",
     "output_type": "stream",
     "text": [
      "Model: \"estimator\"\n",
      "_________________________________________________________________\n",
      "Layer (type)                 Output Shape              Param #   \n",
      "=================================================================\n",
      "bp1 (BatchNormalization)     (3, 50)                   200       \n",
      "_________________________________________________________________\n",
      "layer1 (Dense)               (3, 150)                  7650      \n",
      "_________________________________________________________________\n",
      "bp2 (BatchNormalization)     (3, 150)                  600       \n",
      "_________________________________________________________________\n",
      "layer2 (Dense)               (3, 150)                  22650     \n",
      "_________________________________________________________________\n",
      "bp3 (BatchNormalization)     (3, 150)                  600       \n",
      "_________________________________________________________________\n",
      "layer3 (Dense)               (3, 150)                  22650     \n",
      "_________________________________________________________________\n",
      "pb4 (BatchNormalization)     (3, 150)                  600       \n",
      "_________________________________________________________________\n",
      "layer4 (Dense)               (3, 100)                  15100     \n",
      "=================================================================\n",
      "Total params: 70,050\n",
      "Trainable params: 69,050\n",
      "Non-trainable params: 1,000\n",
      "_________________________________________________________________\n"
     ]
    }
   ],
   "source": [
    "estimator = keras.Sequential(\n",
    "    [\n",
    "        tf.keras.layers.BatchNormalization(name=\"bp1\"),\n",
    "        layers.Dense(user_number + code_length, activation=\"relu\", name=\"layer1\"),\n",
    "        tf.keras.layers.BatchNormalization(name=\"bp2\"),\n",
    "        layers.Dense(user_number + code_length, activation=\"relu\", name=\"layer2\"),\n",
    "        tf.keras.layers.BatchNormalization(name=\"bp3\"),\n",
    "        layers.Dense(user_number + code_length, activation=\"relu\", name=\"layer3\"),\n",
    "        tf.keras.layers.BatchNormalization(name=\"pb4\"),\n",
    "        layers.Dense(user_number, activation=\"relu\", name=\"layer4\"),\n",
    "    ],name = 'estimator'\n",
    ")\n",
    "# Call model on a test input\n",
    "y = tf.ones((3, code_length))\n",
    "x_hat = estimator(y)\n",
    "estimator.summary()\n",
    "\n",
    "signature_matrix = dt.get_random_binary_signature_matrix(user_number, code_length)\n",
    "y_set, x_set, h_set = dt.get_dataset(1000000, signature_matrix, is_fading=1)\n",
    "y_set = y_set.astype(\"float32\")\n",
    "x_set = x_set.astype(\"float32\")\n",
    "h_set = h_set.astype(\"float32\")\n",
    "y_test, x_test, h_test = dt.get_dataset(10000, signature_matrix, is_fading=1)\n",
    "y_test = y_test.astype(\"float32\")\n",
    "x_test = x_test.astype(\"float32\")\n",
    "h_test = h_test.astype(\"float32\")"
   ]
  },
  {
   "cell_type": "code",
   "execution_count": 5,
   "metadata": {},
   "outputs": [
    {
     "name": "stdout",
     "output_type": "stream",
     "text": [
      "Epoch 1/30\n",
      "800/800 [==============================] - 14s 14ms/step - loss: 0.1084 - nmse_accuracy: -3.2615 - bit_error_ratio: 0.2283 - block_error_ratio: 0.9902 - accuracy: 0.6901 - val_loss: 0.0179 - val_nmse_accuracy: -10.9990 - val_bit_error_ratio: 0.0698 - val_block_error_ratio: 0.9473 - val_accuracy: 0.8383\n",
      "Epoch 2/30\n",
      "800/800 [==============================] - 13s 16ms/step - loss: 0.0139 - nmse_accuracy: -12.2585 - bit_error_ratio: 0.0633 - block_error_ratio: 0.9122 - accuracy: 0.8430 - val_loss: 0.0105 - val_nmse_accuracy: -13.5039 - val_bit_error_ratio: 0.0598 - val_block_error_ratio: 0.8934 - val_accuracy: 0.8444\n",
      "Epoch 3/30\n",
      "800/800 [==============================] - 12s 15ms/step - loss: 0.0100 - nmse_accuracy: -13.7290 - bit_error_ratio: 0.0561 - block_error_ratio: 0.8808 - accuracy: 0.8481 - val_loss: 0.0092 - val_nmse_accuracy: -14.1325 - val_bit_error_ratio: 0.0572 - val_block_error_ratio: 0.8788 - val_accuracy: 0.8461\n",
      "Epoch 4/30\n",
      "800/800 [==============================] - 11s 14ms/step - loss: 0.0090 - nmse_accuracy: -14.1823 - bit_error_ratio: 0.0547 - block_error_ratio: 0.8743 - accuracy: 0.8487 - val_loss: 0.0086 - val_nmse_accuracy: -14.3958 - val_bit_error_ratio: 0.0568 - val_block_error_ratio: 0.8804 - val_accuracy: 0.8459\n",
      "Epoch 5/30\n",
      "800/800 [==============================] - 11s 14ms/step - loss: 0.0085 - nmse_accuracy: -14.4212 - bit_error_ratio: 0.0540 - block_error_ratio: 0.8710 - accuracy: 0.8489 - val_loss: 0.0082 - val_nmse_accuracy: -14.6299 - val_bit_error_ratio: 0.0527 - val_block_error_ratio: 0.8630 - val_accuracy: 0.8501\n",
      "Epoch 6/30\n",
      "800/800 [==============================] - 11s 13ms/step - loss: 0.0083 - nmse_accuracy: -14.5843 - bit_error_ratio: 0.0537 - block_error_ratio: 0.8680 - accuracy: 0.8489 - val_loss: 0.0079 - val_nmse_accuracy: -14.7896 - val_bit_error_ratio: 0.0507 - val_block_error_ratio: 0.8480 - val_accuracy: 0.8520\n",
      "Epoch 7/30\n",
      "800/800 [==============================] - 10s 13ms/step - loss: 0.0080 - nmse_accuracy: -14.7417 - bit_error_ratio: 0.0534 - block_error_ratio: 0.8663 - accuracy: 0.8490 - val_loss: 0.0078 - val_nmse_accuracy: -14.8675 - val_bit_error_ratio: 0.0533 - val_block_error_ratio: 0.8588 - val_accuracy: 0.8490\n",
      "Epoch 8/30\n",
      "800/800 [==============================] - 11s 14ms/step - loss: 0.0078 - nmse_accuracy: -14.8278 - bit_error_ratio: 0.0531 - block_error_ratio: 0.8653 - accuracy: 0.8491 - val_loss: 0.0076 - val_nmse_accuracy: -14.9727 - val_bit_error_ratio: 0.0512 - val_block_error_ratio: 0.8508 - val_accuracy: 0.8511\n",
      "Epoch 9/30\n",
      "800/800 [==============================] - 12s 14ms/step - loss: 0.0077 - nmse_accuracy: -14.9274 - bit_error_ratio: 0.0529 - block_error_ratio: 0.8635 - accuracy: 0.8491 - val_loss: 0.0075 - val_nmse_accuracy: -15.0412 - val_bit_error_ratio: 0.0509 - val_block_error_ratio: 0.8509 - val_accuracy: 0.8512\n",
      "Epoch 10/30\n",
      "800/800 [==============================] - 11s 14ms/step - loss: 0.0076 - nmse_accuracy: -14.9962 - bit_error_ratio: 0.0528 - block_error_ratio: 0.8598 - accuracy: 0.8491 - val_loss: 0.0074 - val_nmse_accuracy: -15.0855 - val_bit_error_ratio: 0.0530 - val_block_error_ratio: 0.8612 - val_accuracy: 0.8487\n",
      "Epoch 11/30\n",
      "800/800 [==============================] - 12s 14ms/step - loss: 0.0074 - nmse_accuracy: -15.0246 - bit_error_ratio: 0.0526 - block_error_ratio: 0.8599 - accuracy: 0.8493 - val_loss: 0.0073 - val_nmse_accuracy: -15.1618 - val_bit_error_ratio: 0.0517 - val_block_error_ratio: 0.8565 - val_accuracy: 0.8501\n",
      "Epoch 12/30\n",
      "800/800 [==============================] - 11s 14ms/step - loss: 0.0074 - nmse_accuracy: -15.0800 - bit_error_ratio: 0.0524 - block_error_ratio: 0.8579 - accuracy: 0.8493 - val_loss: 0.0072 - val_nmse_accuracy: -15.2131 - val_bit_error_ratio: 0.0512 - val_block_error_ratio: 0.8437 - val_accuracy: 0.8505\n",
      "Epoch 13/30\n",
      "800/800 [==============================] - 10s 13ms/step - loss: 0.0073 - nmse_accuracy: -15.1417 - bit_error_ratio: 0.0523 - block_error_ratio: 0.8566 - accuracy: 0.8493 - val_loss: 0.0071 - val_nmse_accuracy: -15.3217 - val_bit_error_ratio: 0.0500 - val_block_error_ratio: 0.8380 - val_accuracy: 0.8516\n",
      "Epoch 14/30\n",
      "800/800 [==============================] - 11s 13ms/step - loss: 0.0072 - nmse_accuracy: -15.2026 - bit_error_ratio: 0.0522 - block_error_ratio: 0.8565 - accuracy: 0.8495 - val_loss: 0.0071 - val_nmse_accuracy: -15.3249 - val_bit_error_ratio: 0.0510 - val_block_error_ratio: 0.8434 - val_accuracy: 0.8505\n",
      "Epoch 15/30\n",
      "800/800 [==============================] - 11s 13ms/step - loss: 0.0072 - nmse_accuracy: -15.2377 - bit_error_ratio: 0.0520 - block_error_ratio: 0.8545 - accuracy: 0.8496 - val_loss: 0.0070 - val_nmse_accuracy: -15.3429 - val_bit_error_ratio: 0.0501 - val_block_error_ratio: 0.8403 - val_accuracy: 0.8515\n",
      "Epoch 16/30\n",
      "800/800 [==============================] - 11s 13ms/step - loss: 0.0071 - nmse_accuracy: -15.2994 - bit_error_ratio: 0.0520 - block_error_ratio: 0.8537 - accuracy: 0.8494 - val_loss: 0.0070 - val_nmse_accuracy: -15.3746 - val_bit_error_ratio: 0.0491 - val_block_error_ratio: 0.8305 - val_accuracy: 0.8525\n",
      "Epoch 17/30\n",
      "800/800 [==============================] - 11s 13ms/step - loss: 0.0071 - nmse_accuracy: -15.2902 - bit_error_ratio: 0.0518 - block_error_ratio: 0.8533 - accuracy: 0.8496 - val_loss: 0.0070 - val_nmse_accuracy: -15.3817 - val_bit_error_ratio: 0.0503 - val_block_error_ratio: 0.8364 - val_accuracy: 0.8511\n",
      "Epoch 18/30\n",
      "800/800 [==============================] - 11s 14ms/step - loss: 0.0071 - nmse_accuracy: -15.3110 - bit_error_ratio: 0.0517 - block_error_ratio: 0.8523 - accuracy: 0.8496 - val_loss: 0.0070 - val_nmse_accuracy: -15.3681 - val_bit_error_ratio: 0.0515 - val_block_error_ratio: 0.8459 - val_accuracy: 0.8499\n",
      "Epoch 19/30\n",
      "800/800 [==============================] - 12s 14ms/step - loss: 0.0070 - nmse_accuracy: -15.3179 - bit_error_ratio: 0.0517 - block_error_ratio: 0.8516 - accuracy: 0.8497 - val_loss: 0.0069 - val_nmse_accuracy: -15.4411 - val_bit_error_ratio: 0.0507 - val_block_error_ratio: 0.8435 - val_accuracy: 0.8507\n",
      "Epoch 20/30\n",
      "800/800 [==============================] - 11s 13ms/step - loss: 0.0070 - nmse_accuracy: -15.3803 - bit_error_ratio: 0.0515 - block_error_ratio: 0.8510 - accuracy: 0.8498 - val_loss: 0.0068 - val_nmse_accuracy: -15.4934 - val_bit_error_ratio: 0.0508 - val_block_error_ratio: 0.8419 - val_accuracy: 0.8505\n",
      "Epoch 21/30\n",
      "800/800 [==============================] - 10s 13ms/step - loss: 0.0069 - nmse_accuracy: -15.4265 - bit_error_ratio: 0.0514 - block_error_ratio: 0.8502 - accuracy: 0.8499 - val_loss: 0.0067 - val_nmse_accuracy: -15.5350 - val_bit_error_ratio: 0.0494 - val_block_error_ratio: 0.8297 - val_accuracy: 0.8520\n",
      "Epoch 22/30\n",
      "800/800 [==============================] - 10s 13ms/step - loss: 0.0069 - nmse_accuracy: -15.3938 - bit_error_ratio: 0.0513 - block_error_ratio: 0.8494 - accuracy: 0.8499 - val_loss: 0.0067 - val_nmse_accuracy: -15.5628 - val_bit_error_ratio: 0.0497 - val_block_error_ratio: 0.8320 - val_accuracy: 0.8516\n",
      "Epoch 23/30\n",
      "800/800 [==============================] - 10s 13ms/step - loss: 0.0069 - nmse_accuracy: -15.4324 - bit_error_ratio: 0.0513 - block_error_ratio: 0.8489 - accuracy: 0.8501 - val_loss: 0.0067 - val_nmse_accuracy: -15.5898 - val_bit_error_ratio: 0.0482 - val_block_error_ratio: 0.8227 - val_accuracy: 0.8533\n",
      "Epoch 24/30\n",
      "800/800 [==============================] - 11s 13ms/step - loss: 0.0068 - nmse_accuracy: -15.4527 - bit_error_ratio: 0.0512 - block_error_ratio: 0.8484 - accuracy: 0.8500 - val_loss: 0.0067 - val_nmse_accuracy: -15.5386 - val_bit_error_ratio: 0.0511 - val_block_error_ratio: 0.8423 - val_accuracy: 0.8501\n",
      "Epoch 25/30\n",
      "800/800 [==============================] - 11s 14ms/step - loss: 0.0068 - nmse_accuracy: -15.4600 - bit_error_ratio: 0.0512 - block_error_ratio: 0.8473 - accuracy: 0.8501 - val_loss: 0.0067 - val_nmse_accuracy: -15.5930 - val_bit_error_ratio: 0.0507 - val_block_error_ratio: 0.8396 - val_accuracy: 0.8505\n",
      "Epoch 26/30\n",
      "800/800 [==============================] - 11s 13ms/step - loss: 0.0068 - nmse_accuracy: -15.5283 - bit_error_ratio: 0.0511 - block_error_ratio: 0.8476 - accuracy: 0.8502 - val_loss: 0.0066 - val_nmse_accuracy: -15.6391 - val_bit_error_ratio: 0.0492 - val_block_error_ratio: 0.8253 - val_accuracy: 0.8521\n"
     ]
    },
    {
     "name": "stdout",
     "output_type": "stream",
     "text": [
      "Epoch 27/30\n",
      "800/800 [==============================] - 10s 13ms/step - loss: 0.0068 - nmse_accuracy: -15.4763 - bit_error_ratio: 0.0512 - block_error_ratio: 0.8481 - accuracy: 0.8500 - val_loss: 0.0066 - val_nmse_accuracy: -15.5937 - val_bit_error_ratio: 0.0503 - val_block_error_ratio: 0.8332 - val_accuracy: 0.8508\n",
      "Epoch 28/30\n",
      "800/800 [==============================] - 10s 13ms/step - loss: 0.0067 - nmse_accuracy: -15.5409 - bit_error_ratio: 0.0510 - block_error_ratio: 0.8458 - accuracy: 0.8501 - val_loss: 0.0067 - val_nmse_accuracy: -15.5761 - val_bit_error_ratio: 0.0522 - val_block_error_ratio: 0.8409 - val_accuracy: 0.8487\n",
      "Epoch 29/30\n",
      "800/800 [==============================] - 12s 15ms/step - loss: 0.0067 - nmse_accuracy: -15.5020 - bit_error_ratio: 0.0510 - block_error_ratio: 0.8457 - accuracy: 0.8501 - val_loss: 0.0065 - val_nmse_accuracy: -15.6649 - val_bit_error_ratio: 0.0495 - val_block_error_ratio: 0.8276 - val_accuracy: 0.8517\n",
      "Epoch 30/30\n",
      "800/800 [==============================] - 10s 12ms/step - loss: 0.0067 - nmse_accuracy: -15.5453 - bit_error_ratio: 0.0509 - block_error_ratio: 0.8438 - accuracy: 0.8502 - val_loss: 0.0065 - val_nmse_accuracy: -15.6823 - val_bit_error_ratio: 0.0489 - val_block_error_ratio: 0.8229 - val_accuracy: 0.8523\n",
      "313/313 - 1s - loss: 0.0066 - nmse_accuracy: -1.5562e+01 - bit_error_ratio: 0.0489 - block_error_ratio: 0.8206 - accuracy: 0.8522\n",
      "Test loss: 0.006601220928132534\n",
      "Test accuracy: [-15.561748504638672, 0.048868000507354736, 0.8205999732017517, 0.8521900177001953]\n"
     ]
    }
   ],
   "source": [
    "estimator.compile(\n",
    "    loss=keras.losses.MeanSquaredError(),\n",
    "    optimizer=keras.optimizers.RMSprop(),\n",
    "    metrics=[kt.NMSE_Accuracy(), kt.Bit_Error_Ratio_Threshold_0_01(), kt.Block_Error_Ratio_Threshold_0_01(), \"Accuracy\"],\n",
    ")\n",
    "\n",
    "log_dir=\"./temp6/logs/fit/\" + datetime.datetime.now().strftime(\"%Y%m%d-%H%M%S\")\n",
    "tensorboard_callback = tf.keras.callbacks.TensorBoard(log_dir=log_dir, histogram_freq=1)\n",
    "\n",
    "history = estimator.fit(y_set, h_set, batch_size=1000, epochs=30, validation_split=0.2, callbacks=[tensorboard_callback])\n",
    "\n",
    "test_scores = estimator.evaluate(y_test, h_test, verbose=2)\n",
    "print(\"Test loss:\", test_scores[0])\n",
    "print(\"Test accuracy:\", test_scores[1:])"
   ]
  },
  {
   "cell_type": "code",
   "execution_count": 6,
   "metadata": {},
   "outputs": [],
   "source": [
    "y_set_10dB, x_set_10dB, h_set_10dB, y_set_out_10dB = dt.get_dataset_with_noise(1000000, signature_matrix, 10, is_fading=1)\n",
    "y_set_10dB = y_set_10dB.astype(\"float32\")\n",
    "x_set_10dB = x_set_10dB.astype(\"float32\")\n",
    "h_set_10dB = h_set_10dB.astype(\"float32\")\n",
    "y_set_out_10dB = y_set_out_10dB.astype(\"float32\")\n",
    "y_test_10dB, x_test_10dB, h_test_10dB, y_test_out_10dB = dt.get_dataset_with_noise(10000, signature_matrix, 10, is_fading=1)\n",
    "y_test_10dB = y_test_10dB.astype(\"float32\")\n",
    "x_test_10dB = x_test_10dB.astype(\"float32\")\n",
    "h_test_10dB = h_test_10dB.astype(\"float32\")\n",
    "y_test_out_10dB = y_test_out_10dB.astype(\"float32\")"
   ]
  },
  {
   "cell_type": "code",
   "execution_count": 7,
   "metadata": {},
   "outputs": [
    {
     "name": "stdout",
     "output_type": "stream",
     "text": [
      "313/313 - 0s - loss: 0.0235 - nmse_accuracy: -8.7575e+00 - bit_error_ratio: 0.1653 - block_error_ratio: 1.0000 - accuracy: 0.7360\n",
      "[0.02350356988608837, -8.757534980773926, 0.16532500088214874, 1.0, 0.7359650135040283]\n",
      "313/313 - 1s - loss: 0.0064 - nmse_accuracy: -1.5636e+01 - bit_error_ratio: 0.0487 - block_error_ratio: 0.8186 - accuracy: 0.8525\n",
      "[0.006403318606317043, -15.636138916015625, 0.048650000244379044, 0.8185999989509583, 0.852528989315033]\n"
     ]
    }
   ],
   "source": [
    "print(estimator.evaluate(y_test_10dB, h_test_10dB, verbose=2))\n",
    "print(estimator.evaluate(y_test_out_10dB, h_test_10dB, verbose=2))"
   ]
  },
  {
   "cell_type": "code",
   "execution_count": 8,
   "metadata": {},
   "outputs": [],
   "source": [
    "# 313/313 - 0s - loss: 0.0238 - nmse_accuracy: -8.7320e+00 - bit_error_ratio: 0.1691 - block_error_ratio: 1.0001 - accuracy: 0.7320\n",
    "# [0.023814434185624123, -8.732009887695312, 0.16908100247383118, 1.000100016593933, 0.732043981552124]\n",
    "# 313/313 - 0s - loss: 0.0061 - nmse_accuracy: -1.5955e+01 - bit_error_ratio: 0.0474 - block_error_ratio: 0.8087 - accuracy: 0.8537\n",
    "# [0.006111446768045425, -15.95509147644043, 0.04741999879479408, 0.8086808919906616, 0.853672981262207]"
   ]
  },
  {
   "cell_type": "code",
   "execution_count": 9,
   "metadata": {},
   "outputs": [
    {
     "name": "stdout",
     "output_type": "stream",
     "text": [
      "Model: \"estimator_with_10dB\"\n",
      "_________________________________________________________________\n",
      "Layer (type)                 Output Shape              Param #   \n",
      "=================================================================\n",
      "bp1 (BatchNormalization)     (3, 50)                   200       \n",
      "_________________________________________________________________\n",
      "layer1 (Dense)               (3, 150)                  7650      \n",
      "_________________________________________________________________\n",
      "bp2 (BatchNormalization)     (3, 150)                  600       \n",
      "_________________________________________________________________\n",
      "layer2 (Dense)               (3, 150)                  22650     \n",
      "_________________________________________________________________\n",
      "bp3 (BatchNormalization)     (3, 150)                  600       \n",
      "_________________________________________________________________\n",
      "layer3 (Dense)               (3, 150)                  22650     \n",
      "_________________________________________________________________\n",
      "pb4 (BatchNormalization)     (3, 150)                  600       \n",
      "_________________________________________________________________\n",
      "layer4 (Dense)               (3, 100)                  15100     \n",
      "=================================================================\n",
      "Total params: 70,050\n",
      "Trainable params: 69,050\n",
      "Non-trainable params: 1,000\n",
      "_________________________________________________________________\n"
     ]
    }
   ],
   "source": [
    "estimator_with_10dB = keras.Sequential(\n",
    "    [\n",
    "        tf.keras.layers.BatchNormalization(name=\"bp1\"),\n",
    "        layers.Dense(user_number + code_length, activation=\"relu\", name=\"layer1\"),\n",
    "        tf.keras.layers.BatchNormalization(name=\"bp2\"),\n",
    "        layers.Dense(user_number + code_length, activation=\"relu\", name=\"layer2\"),\n",
    "        tf.keras.layers.BatchNormalization(name=\"bp3\"),\n",
    "        layers.Dense(user_number + code_length, activation=\"relu\", name=\"layer3\"),\n",
    "        tf.keras.layers.BatchNormalization(name=\"pb4\"),\n",
    "        layers.Dense(user_number, activation=\"relu\", name=\"layer4\"),\n",
    "    ],name = 'estimator_with_10dB'\n",
    ")\n",
    "# Call model on a test input\n",
    "y = tf.ones((3, code_length))\n",
    "x_hat = estimator_with_10dB(y)\n",
    "estimator_with_10dB.summary()"
   ]
  },
  {
   "cell_type": "code",
   "execution_count": 10,
   "metadata": {},
   "outputs": [
    {
     "name": "stdout",
     "output_type": "stream",
     "text": [
      "Epoch 1/30\n",
      "800/800 [==============================] - 13s 15ms/step - loss: 0.1156 - nmse_accuracy: -2.7871 - bit_error_ratio: 0.2396 - block_error_ratio: 0.9943 - accuracy: 0.6807 - val_loss: 0.0310 - val_nmse_accuracy: -8.2877 - val_bit_error_ratio: 0.0856 - val_block_error_ratio: 0.9732 - val_accuracy: 0.8284\n",
      "Epoch 2/30\n",
      "800/800 [==============================] - 13s 16ms/step - loss: 0.0256 - nmse_accuracy: -9.0938 - bit_error_ratio: 0.0826 - block_error_ratio: 0.9736 - accuracy: 0.8292 - val_loss: 0.0212 - val_nmse_accuracy: -9.9119 - val_bit_error_ratio: 0.0782 - val_block_error_ratio: 0.9734 - val_accuracy: 0.8317\n",
      "Epoch 3/30\n",
      "800/800 [==============================] - 10s 12ms/step - loss: 0.0207 - nmse_accuracy: -10.0184 - bit_error_ratio: 0.0755 - block_error_ratio: 0.9675 - accuracy: 0.8345 - val_loss: 0.0197 - val_nmse_accuracy: -10.2253 - val_bit_error_ratio: 0.0762 - val_block_error_ratio: 0.9725 - val_accuracy: 0.8332\n",
      "Epoch 4/30\n",
      "800/800 [==============================] - 11s 14ms/step - loss: 0.0195 - nmse_accuracy: -10.2735 - bit_error_ratio: 0.0742 - block_error_ratio: 0.9673 - accuracy: 0.8352 - val_loss: 0.0189 - val_nmse_accuracy: -10.3973 - val_bit_error_ratio: 0.0730 - val_block_error_ratio: 0.9675 - val_accuracy: 0.8363\n",
      "Epoch 5/30\n",
      "800/800 [==============================] - 11s 14ms/step - loss: 0.0189 - nmse_accuracy: -10.3992 - bit_error_ratio: 0.0741 - block_error_ratio: 0.9694 - accuracy: 0.8350 - val_loss: 0.0186 - val_nmse_accuracy: -10.4739 - val_bit_error_ratio: 0.0741 - val_block_error_ratio: 0.9714 - val_accuracy: 0.8347\n",
      "Epoch 6/30\n",
      "800/800 [==============================] - 10s 13ms/step - loss: 0.0185 - nmse_accuracy: -10.4777 - bit_error_ratio: 0.0742 - block_error_ratio: 0.9712 - accuracy: 0.8346 - val_loss: 0.0183 - val_nmse_accuracy: -10.5384 - val_bit_error_ratio: 0.0745 - val_block_error_ratio: 0.9726 - val_accuracy: 0.8340\n",
      "Epoch 7/30\n",
      "800/800 [==============================] - 12s 15ms/step - loss: 0.0183 - nmse_accuracy: -10.5396 - bit_error_ratio: 0.0744 - block_error_ratio: 0.9718 - accuracy: 0.8340 - val_loss: 0.0180 - val_nmse_accuracy: -10.5947 - val_bit_error_ratio: 0.0762 - val_block_error_ratio: 0.9766 - val_accuracy: 0.8319\n",
      "Epoch 8/30\n",
      "800/800 [==============================] - 10s 13ms/step - loss: 0.0181 - nmse_accuracy: -10.5905 - bit_error_ratio: 0.0744 - block_error_ratio: 0.9726 - accuracy: 0.8339 - val_loss: 0.0178 - val_nmse_accuracy: -10.6465 - val_bit_error_ratio: 0.0724 - val_block_error_ratio: 0.9693 - val_accuracy: 0.8360\n",
      "Epoch 9/30\n",
      "800/800 [==============================] - 9s 12ms/step - loss: 0.0179 - nmse_accuracy: -10.6303 - bit_error_ratio: 0.0745 - block_error_ratio: 0.9732 - accuracy: 0.8338 - val_loss: 0.0178 - val_nmse_accuracy: -10.6592 - val_bit_error_ratio: 0.0741 - val_block_error_ratio: 0.9728 - val_accuracy: 0.8340\n",
      "Epoch 10/30\n",
      "800/800 [==============================] - 10s 12ms/step - loss: 0.0178 - nmse_accuracy: -10.6403 - bit_error_ratio: 0.0747 - block_error_ratio: 0.9741 - accuracy: 0.8334 - val_loss: 0.0176 - val_nmse_accuracy: -10.7034 - val_bit_error_ratio: 0.0753 - val_block_error_ratio: 0.9767 - val_accuracy: 0.8325\n",
      "Epoch 11/30\n",
      "800/800 [==============================] - 10s 12ms/step - loss: 0.0177 - nmse_accuracy: -10.6695 - bit_error_ratio: 0.0748 - block_error_ratio: 0.9750 - accuracy: 0.8331 - val_loss: 0.0175 - val_nmse_accuracy: -10.7305 - val_bit_error_ratio: 0.0740 - val_block_error_ratio: 0.9744 - val_accuracy: 0.8339\n",
      "Epoch 12/30\n",
      "800/800 [==============================] - 10s 12ms/step - loss: 0.0176 - nmse_accuracy: -10.6523 - bit_error_ratio: 0.0748 - block_error_ratio: 0.9748 - accuracy: 0.8329 - val_loss: 0.0173 - val_nmse_accuracy: -10.7612 - val_bit_error_ratio: 0.0736 - val_block_error_ratio: 0.9737 - val_accuracy: 0.8342\n",
      "Epoch 13/30\n",
      "800/800 [==============================] - 11s 14ms/step - loss: 0.0174 - nmse_accuracy: -10.7468 - bit_error_ratio: 0.0747 - block_error_ratio: 0.9756 - accuracy: 0.8330 - val_loss: 0.0173 - val_nmse_accuracy: -10.7655 - val_bit_error_ratio: 0.0741 - val_block_error_ratio: 0.9754 - val_accuracy: 0.8336\n",
      "Epoch 14/30\n",
      "800/800 [==============================] - 11s 14ms/step - loss: 0.0174 - nmse_accuracy: -10.7490 - bit_error_ratio: 0.0748 - block_error_ratio: 0.9755 - accuracy: 0.8328 - val_loss: 0.0172 - val_nmse_accuracy: -10.8065 - val_bit_error_ratio: 0.0739 - val_block_error_ratio: 0.9741 - val_accuracy: 0.8338\n",
      "Epoch 15/30\n",
      "800/800 [==============================] - 12s 15ms/step - loss: 0.0173 - nmse_accuracy: -10.7717 - bit_error_ratio: 0.0748 - block_error_ratio: 0.9756 - accuracy: 0.8328 - val_loss: 0.0171 - val_nmse_accuracy: -10.8161 - val_bit_error_ratio: 0.0736 - val_block_error_ratio: 0.9743 - val_accuracy: 0.8341\n",
      "Epoch 16/30\n",
      "800/800 [==============================] - 13s 17ms/step - loss: 0.0172 - nmse_accuracy: -10.7827 - bit_error_ratio: 0.0747 - block_error_ratio: 0.9757 - accuracy: 0.8329 - val_loss: 0.0170 - val_nmse_accuracy: -10.8399 - val_bit_error_ratio: 0.0743 - val_block_error_ratio: 0.9763 - val_accuracy: 0.8333\n",
      "Epoch 17/30\n",
      "800/800 [==============================] - 13s 16ms/step - loss: 0.0171 - nmse_accuracy: -10.7949 - bit_error_ratio: 0.0745 - block_error_ratio: 0.9761 - accuracy: 0.8330 - val_loss: 0.0170 - val_nmse_accuracy: -10.8534 - val_bit_error_ratio: 0.0735 - val_block_error_ratio: 0.9750 - val_accuracy: 0.8341\n",
      "Epoch 18/30\n",
      "800/800 [==============================] - 10s 12ms/step - loss: 0.0171 - nmse_accuracy: -inf - bit_error_ratio: 0.0746 - block_error_ratio: 0.9765 - accuracy: 0.8328 - val_loss: 0.0170 - val_nmse_accuracy: -10.8460 - val_bit_error_ratio: 0.0742 - val_block_error_ratio: 0.9763 - val_accuracy: 0.8333\n",
      "Epoch 19/30\n",
      "800/800 [==============================] - 9s 12ms/step - loss: 0.0170 - nmse_accuracy: -10.7912 - bit_error_ratio: 0.0746 - block_error_ratio: 0.9763 - accuracy: 0.8329 - val_loss: 0.0169 - val_nmse_accuracy: -10.8693 - val_bit_error_ratio: 0.0754 - val_block_error_ratio: 0.9788 - val_accuracy: 0.8318\n",
      "Epoch 20/30\n",
      "800/800 [==============================] - 10s 13ms/step - loss: 0.0170 - nmse_accuracy: -10.8646 - bit_error_ratio: 0.0746 - block_error_ratio: 0.9765 - accuracy: 0.8328 - val_loss: 0.0168 - val_nmse_accuracy: -10.8994 - val_bit_error_ratio: 0.0735 - val_block_error_ratio: 0.9755 - val_accuracy: 0.8339\n",
      "Epoch 21/30\n",
      "800/800 [==============================] - 11s 14ms/step - loss: 0.0169 - nmse_accuracy: -10.8373 - bit_error_ratio: 0.0745 - block_error_ratio: 0.9764 - accuracy: 0.8329 - val_loss: 0.0168 - val_nmse_accuracy: -10.8787 - val_bit_error_ratio: 0.0734 - val_block_error_ratio: 0.9754 - val_accuracy: 0.8341\n",
      "Epoch 22/30\n",
      "800/800 [==============================] - 13s 17ms/step - loss: 0.0169 - nmse_accuracy: -10.8945 - bit_error_ratio: 0.0745 - block_error_ratio: 0.9765 - accuracy: 0.8329 - val_loss: 0.0167 - val_nmse_accuracy: -10.9190 - val_bit_error_ratio: 0.0741 - val_block_error_ratio: 0.9769 - val_accuracy: 0.8332\n",
      "Epoch 23/30\n",
      "800/800 [==============================] - 11s 13ms/step - loss: 0.0168 - nmse_accuracy: -10.8611 - bit_error_ratio: 0.0745 - block_error_ratio: 0.9769 - accuracy: 0.8328 - val_loss: 0.0167 - val_nmse_accuracy: -10.9275 - val_bit_error_ratio: 0.0738 - val_block_error_ratio: 0.9761 - val_accuracy: 0.8336\n",
      "Epoch 24/30\n",
      "800/800 [==============================] - 10s 12ms/step - loss: 0.0168 - nmse_accuracy: -10.8930 - bit_error_ratio: 0.0745 - block_error_ratio: 0.9767 - accuracy: 0.8327 - val_loss: 0.0166 - val_nmse_accuracy: -10.9346 - val_bit_error_ratio: 0.0761 - val_block_error_ratio: 0.9802 - val_accuracy: 0.8309\n",
      "Epoch 25/30\n",
      "800/800 [==============================] - 10s 12ms/step - loss: 0.0168 - nmse_accuracy: -10.8804 - bit_error_ratio: 0.0746 - block_error_ratio: 0.9773 - accuracy: 0.8327 - val_loss: 0.0166 - val_nmse_accuracy: -10.9494 - val_bit_error_ratio: 0.0729 - val_block_error_ratio: 0.9751 - val_accuracy: 0.8345\n",
      "Epoch 26/30\n",
      "800/800 [==============================] - 10s 12ms/step - loss: 0.0167 - nmse_accuracy: -10.8968 - bit_error_ratio: 0.0745 - block_error_ratio: 0.9771 - accuracy: 0.8327 - val_loss: 0.0167 - val_nmse_accuracy: -10.9203 - val_bit_error_ratio: 0.0732 - val_block_error_ratio: 0.9752 - val_accuracy: 0.8341\n"
     ]
    },
    {
     "name": "stdout",
     "output_type": "stream",
     "text": [
      "Epoch 27/30\n",
      "800/800 [==============================] - 9s 12ms/step - loss: 0.0167 - nmse_accuracy: -10.8960 - bit_error_ratio: 0.0745 - block_error_ratio: 0.9770 - accuracy: 0.8327 - val_loss: 0.0165 - val_nmse_accuracy: -10.9592 - val_bit_error_ratio: 0.0732 - val_block_error_ratio: 0.9757 - val_accuracy: 0.8341\n",
      "Epoch 28/30\n",
      "800/800 [==============================] - 10s 12ms/step - loss: 0.0166 - nmse_accuracy: -10.8995 - bit_error_ratio: 0.0745 - block_error_ratio: 0.9775 - accuracy: 0.8327 - val_loss: 0.0165 - val_nmse_accuracy: -10.9608 - val_bit_error_ratio: 0.0732 - val_block_error_ratio: 0.9756 - val_accuracy: 0.8340\n",
      "Epoch 29/30\n",
      "800/800 [==============================] - 10s 13ms/step - loss: 0.0166 - nmse_accuracy: -10.8902 - bit_error_ratio: 0.0745 - block_error_ratio: 0.9776 - accuracy: 0.8326 - val_loss: 0.0166 - val_nmse_accuracy: -10.9368 - val_bit_error_ratio: 0.0755 - val_block_error_ratio: 0.9793 - val_accuracy: 0.8316\n",
      "Epoch 30/30\n",
      "800/800 [==============================] - 9s 12ms/step - loss: 0.0166 - nmse_accuracy: -10.9096 - bit_error_ratio: 0.0744 - block_error_ratio: 0.9776 - accuracy: 0.8328 - val_loss: 0.0165 - val_nmse_accuracy: -10.9780 - val_bit_error_ratio: 0.0750 - val_block_error_ratio: 0.9790 - val_accuracy: 0.8320\n",
      "313/313 - 1s - loss: 0.0165 - nmse_accuracy: -1.0812e+01 - bit_error_ratio: 0.0750 - block_error_ratio: 0.9769 - accuracy: 0.8321\n",
      "Test loss: 0.016480039805173874\n",
      "Test accuracy: [-10.812392234802246, 0.07499100267887115, 0.9768999814987183, 0.8321359753608704]\n"
     ]
    }
   ],
   "source": [
    "estimator_with_10dB.compile(\n",
    "    loss=keras.losses.MeanSquaredError(),\n",
    "    optimizer=keras.optimizers.RMSprop(),\n",
    "    metrics=[kt.NMSE_Accuracy(), kt.Bit_Error_Ratio_Threshold_0_01(), kt.Block_Error_Ratio_Threshold_0_01(), \"Accuracy\"],\n",
    ")\n",
    "\n",
    "log_dir=\"./temp6/logs/fit/\" + datetime.datetime.now().strftime(\"%Y%m%d-%H%M%S\")\n",
    "tensorboard_callback = tf.keras.callbacks.TensorBoard(log_dir=log_dir, histogram_freq=1)\n",
    "\n",
    "history = estimator_with_10dB.fit(y_set_10dB, h_set_10dB, batch_size=1000, epochs=30, validation_split=0.2, callbacks=[tensorboard_callback])\n",
    "\n",
    "test_scores = estimator_with_10dB.evaluate(y_test_10dB, h_test_10dB, verbose=2)\n",
    "print(\"Test loss:\", test_scores[0])\n",
    "print(\"Test accuracy:\", test_scores[1:])"
   ]
  },
  {
   "cell_type": "code",
   "execution_count": 12,
   "metadata": {},
   "outputs": [
    {
     "name": "stdout",
     "output_type": "stream",
     "text": [
      "313/313 - 1s - loss: 0.0088 - nmse_accuracy: -1.3985e+01 - bit_error_ratio: 0.0296 - block_error_ratio: 0.6975 - accuracy: 0.8774\n",
      "Test loss: 0.00882832333445549\n",
      "Test accuracy: [-13.984776496887207, 0.02962600067257881, 0.6974999904632568, 0.8773810267448425]\n"
     ]
    }
   ],
   "source": [
    "test_scores = estimator_with_10dB.evaluate(y_test, h_test, verbose=2)\n",
    "print(\"Test loss:\", test_scores[0])\n",
    "print(\"Test accuracy:\", test_scores[1:])"
   ]
  },
  {
   "cell_type": "code",
   "execution_count": 11,
   "metadata": {},
   "outputs": [],
   "source": [
    "# %tensorboard --logdir ./temp6/logs/fit"
   ]
  }
 ],
 "metadata": {
  "kernelspec": {
   "display_name": "Python 3.8",
   "language": "python",
   "name": "python3.8"
  },
  "language_info": {
   "codemirror_mode": {
    "name": "ipython",
    "version": 3
   },
   "file_extension": ".py",
   "mimetype": "text/x-python",
   "name": "python",
   "nbconvert_exporter": "python",
   "pygments_lexer": "ipython3",
   "version": "3.8.7"
  }
 },
 "nbformat": 4,
 "nbformat_minor": 4
}
