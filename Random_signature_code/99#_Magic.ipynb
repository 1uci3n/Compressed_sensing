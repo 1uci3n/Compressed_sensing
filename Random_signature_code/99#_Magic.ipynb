{
 "cells": [
  {
   "cell_type": "code",
   "execution_count": 1,
   "metadata": {},
   "outputs": [],
   "source": [
    "import tensorflow as tf\n",
    "import numpy as np"
   ]
  },
  {
   "cell_type": "code",
   "execution_count": 12,
   "metadata": {},
   "outputs": [
    {
     "name": "stdout",
     "output_type": "stream",
     "text": [
      "[PhysicalDevice(name=u'/physical_device:CPU:0', device_type=u'CPU'), PhysicalDevice(name=u'/physical_device:XLA_CPU:0', device_type=u'XLA_CPU')]\n"
     ]
    }
   ],
   "source": [
    "print tf.config.list_physical_devices()"
   ]
  },
  {
   "cell_type": "code",
   "execution_count": 3,
   "metadata": {},
   "outputs": [],
   "source": [
    "# In the tf.keras.layers package, layers are objects. To construct a layer,\n",
    "# simply construct the object. Most layers take as a first argument the number\n",
    "# of output dimensions / channels.\n",
    "layer = tf.keras.layers.Dense(100)\n",
    "# The number of input dimensions is often unnecessary, as it can be inferred\n",
    "# the first time the layer is used, but it can be provided if you want to\n",
    "# specify it manually, which is useful in some complex models.\n",
    "layer = tf.keras.layers.Dense(10, input_shape=(None, 5))"
   ]
  },
  {
   "cell_type": "code",
   "execution_count": 8,
   "metadata": {},
   "outputs": [
    {
     "data": {
      "text/plain": [
       "<tf.Tensor: shape=(10, 10), dtype=float32, numpy=\n",
       "array([[-5.8868974e-02,  1.2728840e-01,  2.4428999e-01,  7.7858883e-01,\n",
       "        -2.4122995e-01, -1.6790628e-04,  8.5247427e-02,  8.8042921e-01,\n",
       "         7.1803391e-02,  4.4572294e-02],\n",
       "       [-5.8868974e-02,  1.2728840e-01,  2.4428999e-01,  7.7858883e-01,\n",
       "        -2.4122995e-01, -1.6790628e-04,  8.5247427e-02,  8.8042921e-01,\n",
       "         7.1803391e-02,  4.4572294e-02],\n",
       "       [-5.8868974e-02,  1.2728840e-01,  2.4428999e-01,  7.7858883e-01,\n",
       "        -2.4122995e-01, -1.6790628e-04,  8.5247427e-02,  8.8042921e-01,\n",
       "         7.1803391e-02,  4.4572294e-02],\n",
       "       [-5.8868974e-02,  1.2728840e-01,  2.4428999e-01,  7.7858883e-01,\n",
       "        -2.4122995e-01, -1.6790628e-04,  8.5247427e-02,  8.8042921e-01,\n",
       "         7.1803391e-02,  4.4572294e-02],\n",
       "       [-5.8868974e-02,  1.2728840e-01,  2.4428999e-01,  7.7858883e-01,\n",
       "        -2.4122995e-01, -1.6790628e-04,  8.5247427e-02,  8.8042921e-01,\n",
       "         7.1803391e-02,  4.4572294e-02],\n",
       "       [-5.8868974e-02,  1.2728840e-01,  2.4428999e-01,  7.7858883e-01,\n",
       "        -2.4122995e-01, -1.6790628e-04,  8.5247427e-02,  8.8042921e-01,\n",
       "         7.1803391e-02,  4.4572294e-02],\n",
       "       [-5.8868974e-02,  1.2728840e-01,  2.4428999e-01,  7.7858883e-01,\n",
       "        -2.4122995e-01, -1.6790628e-04,  8.5247427e-02,  8.8042921e-01,\n",
       "         7.1803391e-02,  4.4572294e-02],\n",
       "       [-5.8868974e-02,  1.2728840e-01,  2.4428999e-01,  7.7858883e-01,\n",
       "        -2.4122995e-01, -1.6790628e-04,  8.5247427e-02,  8.8042921e-01,\n",
       "         7.1803391e-02,  4.4572294e-02],\n",
       "       [-5.8868974e-02,  1.2728840e-01,  2.4428999e-01,  7.7858883e-01,\n",
       "        -2.4122995e-01, -1.6790628e-04,  8.5247427e-02,  8.8042921e-01,\n",
       "         7.1803391e-02,  4.4572294e-02],\n",
       "       [-5.8868974e-02,  1.2728840e-01,  2.4428999e-01,  7.7858883e-01,\n",
       "        -2.4122995e-01, -1.6790628e-04,  8.5247427e-02,  8.8042921e-01,\n",
       "         7.1803391e-02,  4.4572294e-02]], dtype=float32)>"
      ]
     },
     "execution_count": 8,
     "metadata": {},
     "output_type": "execute_result"
    }
   ],
   "source": [
    "# To use a layer, simply call it.\n",
    "layer(tf.ones([10, 5]))"
   ]
  },
  {
   "cell_type": "code",
   "execution_count": 5,
   "metadata": {},
   "outputs": [
    {
     "data": {
      "text/plain": [
       "[<tf.Variable 'dense_1/kernel:0' shape=(5, 10) dtype=float32, numpy=\n",
       " array([[-0.10499978, -0.15327054, -0.3659627 , -0.3088035 ,  0.6200493 ,\n",
       "         -0.14629489, -0.5772669 , -0.06316423, -0.18953231,  0.4120229 ],\n",
       "        [ 0.60925394, -0.14610744,  0.3771276 ,  0.41779238, -0.04109728,\n",
       "         -0.1442182 , -0.11212784,  0.14595258,  0.32681602, -0.41537207],\n",
       "        [-0.43399906, -0.4763847 , -0.0956611 ,  0.4140826 ,  0.20087665,\n",
       "         -0.37475973, -0.46844685, -0.17582044, -0.1812656 ,  0.31502855],\n",
       "        [ 0.61659676,  0.12726873,  0.5579657 , -0.26358923,  0.42949766,\n",
       "          0.21365345,  0.12714905, -0.39785522, -0.16547602, -0.590908  ],\n",
       "        [ 0.13439548, -0.29268295, -0.14994851, -0.31688973,  0.4241076 ,\n",
       "          0.5319074 ,  0.12866658,  0.35344255,  0.22758484,  0.36271578]],\n",
       "       dtype=float32)>,\n",
       " <tf.Variable 'dense_1/bias:0' shape=(10,) dtype=float32, numpy=array([0., 0., 0., 0., 0., 0., 0., 0., 0., 0.], dtype=float32)>]"
      ]
     },
     "execution_count": 5,
     "metadata": {},
     "output_type": "execute_result"
    }
   ],
   "source": [
    "# Layers have many useful methods. For example, you can inspect all variables\n",
    "# in a layer using `layer.variables` and trainable variables using\n",
    "# `layer.trainable_variables`. In this case a fully-connected layer\n",
    "# will have variables for weights and biases.\n",
    "layer.variables"
   ]
  },
  {
   "cell_type": "code",
   "execution_count": 11,
   "metadata": {},
   "outputs": [
    {
     "data": {
      "text/plain": [
       "(<tf.Variable 'dense_1/kernel:0' shape=(5, 10) dtype=float32, numpy=\n",
       " array([[ 0.290924  ,  0.00194383, -0.5822919 ,  0.59741193,  0.34375387,\n",
       "         -0.20326951,  0.44000143,  0.4003634 ,  0.2840067 , -0.00813252],\n",
       "        [-0.4717651 ,  0.17340815,  0.44388908, -0.14590299, -0.33761495,\n",
       "          0.04149687, -0.5360613 , -0.45632327, -0.54251087,  0.42336982],\n",
       "        [-0.28585115,  0.21117616,  0.6041388 ,  0.20847714,  0.43630618,\n",
       "          0.30408865, -0.4335485 , -0.4000682 ,  0.39698726,  0.42312533],\n",
       "        [ 0.19044471, -0.01320267, -0.36482018,  0.17276543, -0.3744069 ,\n",
       "          0.03196657, -0.60892713,  0.21614254, -0.13220876,  0.2766598 ],\n",
       "        [ 0.12596506, -0.60204166,  0.22905022,  0.1963861 , -0.532883  ,\n",
       "          0.47593743,  0.09940636,  0.22139543,  0.36445796,  0.32747167]],\n",
       "       dtype=float32)>,\n",
       " <tf.Variable 'dense_1/bias:0' shape=(10,) dtype=float32, numpy=array([0., 0., 0., 0., 0., 0., 0., 0., 0., 0.], dtype=float32)>)"
      ]
     },
     "execution_count": 11,
     "metadata": {},
     "output_type": "execute_result"
    }
   ],
   "source": [
    "# The variables are also accessible through nice accessors\n",
    "layer.kernel, layer.bias"
   ]
  },
  {
   "cell_type": "code",
   "execution_count": 6,
   "metadata": {},
   "outputs": [],
   "source": [
    "class MyDenseLayer(tf.keras.layers.Layer):\n",
    "  def __init__(self, num_outputs):\n",
    "    super(MyDenseLayer, self).__init__()\n",
    "    self.num_outputs = num_outputs\n",
    "\n",
    "  def build(self, input_shape):\n",
    "    self.kernel = self.add_weight(\"kernel\",\n",
    "                                  shape=[int(input_shape[-1]),\n",
    "                                         self.num_outputs])\n",
    "\n",
    "  def call(self, input):\n",
    "    return tf.matmul(input, self.kernel)\n",
    "\n",
    "layer = MyDenseLayer(10)"
   ]
  },
  {
   "cell_type": "code",
   "execution_count": 11,
   "metadata": {},
   "outputs": [
    {
     "ename": "TypeError",
     "evalue": "call() takes exactly 2 arguments (1 given)",
     "output_type": "error",
     "traceback": [
      "\u001b[0;31m---------------------------------------------------------------------------\u001b[0m",
      "\u001b[0;31mTypeError\u001b[0m                                 Traceback (most recent call last)",
      "\u001b[0;32m<ipython-input-11-54a3953f9d52>\u001b[0m in \u001b[0;36m<module>\u001b[0;34m()\u001b[0m\n\u001b[0;32m----> 1\u001b[0;31m \u001b[0mlayer\u001b[0m\u001b[0;34m.\u001b[0m\u001b[0mcall\u001b[0m\u001b[0;34m(\u001b[0m\u001b[0;34m)\u001b[0m\u001b[0;34m\u001b[0m\u001b[0m\n\u001b[0m",
      "\u001b[0;31mTypeError\u001b[0m: call() takes exactly 2 arguments (1 given)"
     ]
    }
   ],
   "source": [
    "layer.call()"
   ]
  },
  {
   "cell_type": "code",
   "execution_count": 15,
   "metadata": {},
   "outputs": [],
   "source": [
    "_ = layer(tf.zeros([10, 5])) # Calling the layer `.builds` it."
   ]
  },
  {
   "cell_type": "code",
   "execution_count": 16,
   "metadata": {},
   "outputs": [
    {
     "name": "stdout",
     "output_type": "stream",
     "text": [
      "['my_dense_layer/kernel:0']\n"
     ]
    }
   ],
   "source": [
    "print([var.name for var in layer.trainable_variables])"
   ]
  },
  {
   "cell_type": "code",
   "execution_count": null,
   "metadata": {},
   "outputs": [],
   "source": []
  }
 ],
 "metadata": {
  "kernelspec": {
   "display_name": "Python 2",
   "language": "python",
   "name": "python2"
  },
  "language_info": {
   "codemirror_mode": {
    "name": "ipython",
    "version": 2
   },
   "file_extension": ".py",
   "mimetype": "text/x-python",
   "name": "python",
   "nbconvert_exporter": "python",
   "pygments_lexer": "ipython2",
   "version": "2.7.16"
  }
 },
 "nbformat": 4,
 "nbformat_minor": 4
}
